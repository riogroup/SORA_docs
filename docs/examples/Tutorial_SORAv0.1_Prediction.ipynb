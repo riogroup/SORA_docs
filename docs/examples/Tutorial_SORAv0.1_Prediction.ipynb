{
 "cells": [
  {
   "cell_type": "markdown",
   "metadata": {},
   "source": [
    "**SORA - Stellar Occultation Reduction and Analysis**\n",
    "\n",
    "## _prediction()_ and PredictionTable Object Class\n",
    "\n",
    "The prediction module within SORA was created to predict stellar occultation, organize the prediction and plot the occultation maps. The documentation at <font color=blue>add link</font> contains the details about every step.  \n",
    "\n",
    "This Jupyter-Notebook was designed as a tutorial for how to work with the prediction module. Any further question, please contact the core team: Altair Ramos Gomes Júnior, Bruno Eduardo Morgado, Gustavo Benedetti Rossi, and Rodrigo Carlos Boufleur.\n",
    "\n",
    "<font size=\"6\">Index</font>\n",
    "\n",
    "1. [Predicting stellar occultation](#section_1)\n",
    "2. [Setting and/or modifying parameters](#section_2)\n",
    "3. [Apparent Sidereal Time](#section_3)\n",
    "4. [Ksi and Eta projection](#section_4)\n",
    "5. [MPC observatories](#section_5)"
   ]
  },
  {
   "cell_type": "markdown",
   "metadata": {},
   "source": [
    "<a id=\"section_1\"></a>\n",
    "<h3 id=\"section_1\">1. Predicting stellar occultation</h3>\n",
    "\n",
    "To predict a stellar occultation, the function _prediction()_ must be used. It will need an EphemKernel Object and the time interval for the search. The function will generate the ephemeris within the given interval (with a default  step of 60 seconds between positions, that may be changed by the user) and download the star coordinates from Vizier. For every star, it checks the closest ephemeris. An occultation is identified if the distance is smaller than the radius of the Earth plus the radius of the object (given in Ephem) plus the error of the ephemeris (multiplied by a sigma factor given by the user). In the next step, the coordinate of the star is propagated to date using proper motion and parallax. It results in the occultation parameters, such as the Closest Approach distance, the Position Angle, Velocity, etc.\n",
    "\n",
    "The function returns a PredictionTable with all the information.\n",
    "\n",
    "**All functions have their Docstring containing its main purpose and the needed parameters (physical description and formats). Please, do not hesitate to use it.**"
   ]
  },
  {
   "cell_type": "code",
   "execution_count": 1,
   "metadata": {},
   "outputs": [],
   "source": [
    "from sora.prediction import prediction"
   ]
  },
  {
   "cell_type": "code",
   "execution_count": 2,
   "metadata": {},
   "outputs": [
    {
     "data": {
      "text/plain": [
       "\u001b[0;31mSignature:\u001b[0m\n",
       "\u001b[0mprediction\u001b[0m\u001b[0;34m(\u001b[0m\u001b[0;34m\u001b[0m\n",
       "\u001b[0;34m\u001b[0m    \u001b[0mtime_beg\u001b[0m\u001b[0;34m,\u001b[0m\u001b[0;34m\u001b[0m\n",
       "\u001b[0;34m\u001b[0m    \u001b[0mtime_end\u001b[0m\u001b[0;34m,\u001b[0m\u001b[0;34m\u001b[0m\n",
       "\u001b[0;34m\u001b[0m    \u001b[0mbody\u001b[0m\u001b[0;34m=\u001b[0m\u001b[0;32mNone\u001b[0m\u001b[0;34m,\u001b[0m\u001b[0;34m\u001b[0m\n",
       "\u001b[0;34m\u001b[0m    \u001b[0mephem\u001b[0m\u001b[0;34m=\u001b[0m\u001b[0;32mNone\u001b[0m\u001b[0;34m,\u001b[0m\u001b[0;34m\u001b[0m\n",
       "\u001b[0;34m\u001b[0m    \u001b[0mmag_lim\u001b[0m\u001b[0;34m=\u001b[0m\u001b[0;32mNone\u001b[0m\u001b[0;34m,\u001b[0m\u001b[0;34m\u001b[0m\n",
       "\u001b[0;34m\u001b[0m    \u001b[0mstep\u001b[0m\u001b[0;34m=\u001b[0m\u001b[0;36m60\u001b[0m\u001b[0;34m,\u001b[0m\u001b[0;34m\u001b[0m\n",
       "\u001b[0;34m\u001b[0m    \u001b[0mdivs\u001b[0m\u001b[0;34m=\u001b[0m\u001b[0;36m1\u001b[0m\u001b[0;34m,\u001b[0m\u001b[0;34m\u001b[0m\n",
       "\u001b[0;34m\u001b[0m    \u001b[0msigma\u001b[0m\u001b[0;34m=\u001b[0m\u001b[0;36m1\u001b[0m\u001b[0;34m,\u001b[0m\u001b[0;34m\u001b[0m\n",
       "\u001b[0;34m\u001b[0m    \u001b[0mradius\u001b[0m\u001b[0;34m=\u001b[0m\u001b[0;32mNone\u001b[0m\u001b[0;34m,\u001b[0m\u001b[0;34m\u001b[0m\n",
       "\u001b[0;34m\u001b[0m    \u001b[0mlog\u001b[0m\u001b[0;34m=\u001b[0m\u001b[0;32mTrue\u001b[0m\u001b[0;34m,\u001b[0m\u001b[0;34m\u001b[0m\n",
       "\u001b[0;34m\u001b[0m\u001b[0;34m)\u001b[0m\u001b[0;34m\u001b[0m\u001b[0;34m\u001b[0m\u001b[0m\n",
       "\u001b[0;31mDocstring:\u001b[0m\n",
       "Predicts stellar occultations\n",
       "\n",
       "Parameters:\n",
       "    time_beg (str,Time): Initial time for prediction (required).\n",
       "    time_beg (str,Time): Final time for prediction (required).\n",
       "    body* (Body, str): Object that will occult the stars. It must be a Body object or its\n",
       "            name to search in the Small Body Database.\n",
       "    ephem* (Ephem): object ephemeris. It must be an Ephemeris object.\n",
       "    mag_lim (int,float): Faintest Gmag for search\n",
       "    step (number): step, in seconds, of ephem times for search\n",
       "    divs (int): number of regions the ephemeris will be splitted for better search of occultations\n",
       "    sigma (number): ephemeris error sigma for search off-Earth.\n",
       "    radius (number): The radius of the body. It is important if not defined in body or ephem.\n",
       "    log (bool): To show what is being done at the moment.\n",
       "\n",
       "* When instantiating with \"body\" and \"ephem\", the user may call the function in 3 ways:\n",
       "    - With \"body\" and \"ephem\".\n",
       "    - With only \"body\". In this case, the \"body\" parameter must be a Body object and have an\n",
       "        ephemeris associated (see Body documentation).\n",
       "    - With only \"ephem\". In this case, the \"ephem\" parameter must be one of the Ephem Classes\n",
       "        and have a name (see Ephem documentation) to search for the body in the Small Body Database.\n",
       "\n",
       "Returns:\n",
       "    predict (PredictionTable): PredictionTable with the occultation params for each event\n",
       "\u001b[0;31mFile:\u001b[0m      ~/miniconda3/lib/python3.8/site-packages/sora/prediction.py\n",
       "\u001b[0;31mType:\u001b[0m      function\n"
      ]
     },
     "metadata": {},
     "output_type": "display_data"
    }
   ],
   "source": [
    "prediction?"
   ]
  },
  {
   "cell_type": "markdown",
   "metadata": {},
   "source": [
    "**Importing and defining the Ephemeris to be used.**"
   ]
  },
  {
   "cell_type": "code",
   "execution_count": 3,
   "metadata": {},
   "outputs": [],
   "source": [
    "from sora.ephem import EphemKernel\n",
    "eph_chariklo = EphemKernel(name='Chariklo', spkid='2010199', kernels=['input/bsp/Chariklo.bsp', 'input/bsp/de438_small.bsp'])"
   ]
  },
  {
   "cell_type": "code",
   "execution_count": 10,
   "metadata": {},
   "outputs": [
    {
     "ename": "TypeError",
     "evalue": "prediction() got multiple values for argument 'time_beg'",
     "output_type": "error",
     "traceback": [
      "\u001b[0;31m---------------------------------------------------------------------------\u001b[0m",
      "\u001b[0;31mTypeError\u001b[0m                                 Traceback (most recent call last)",
      "\u001b[0;32m<ipython-input-10-ca1a132858a7>\u001b[0m in \u001b[0;36m<module>\u001b[0;34m\u001b[0m\n\u001b[0;32m----> 1\u001b[0;31m \u001b[0mpred\u001b[0m \u001b[0;34m=\u001b[0m \u001b[0mprediction\u001b[0m\u001b[0;34m(\u001b[0m\u001b[0meph_chariklo\u001b[0m\u001b[0;34m,\u001b[0m \u001b[0mtime_beg\u001b[0m\u001b[0;34m=\u001b[0m\u001b[0;34m'2017-06-20 00:00:00'\u001b[0m\u001b[0;34m,\u001b[0m \u001b[0mtime_end\u001b[0m\u001b[0;34m=\u001b[0m\u001b[0;34m'2017-07-01 00:00:00'\u001b[0m\u001b[0;34m,\u001b[0m \u001b[0mmag_lim\u001b[0m\u001b[0;34m=\u001b[0m\u001b[0;36m18\u001b[0m\u001b[0;34m,\u001b[0m \u001b[0mdivs\u001b[0m\u001b[0;34m=\u001b[0m\u001b[0;36m3\u001b[0m\u001b[0;34m)\u001b[0m\u001b[0;34m\u001b[0m\u001b[0;34m\u001b[0m\u001b[0m\n\u001b[0m",
      "\u001b[0;31mTypeError\u001b[0m: prediction() got multiple values for argument 'time_beg'"
     ]
    }
   ],
   "source": [
    "pred = prediction(eph_chariklo, time_beg='2017-06-20 00:00:00', time_end='2017-07-01 00:00:00', mag_lim=18, divs=3)"
   ]
  },
  {
   "cell_type": "markdown",
   "metadata": {},
   "source": [
    "<a id=\"section_2\"></a>\n",
    "<h3 id=\"section_2\">2. The PredictionTable</h3>\n",
    "\n",
    "The resulting variable of the prediction function is a PredictionTable Object. The PredictionTable Class was created to have all the information about the occultations predicted, plot occultation maps and save the table in other formats.\n",
    "\n",
    "**The PredictionTable is a class that inherits all methods from Astropy.table.Table. All the functions present in Astropy Table should work for PredictionTable.**\n",
    "\n",
    "More information about it at https://docs.astropy.org/en/stable/table/"
   ]
  },
  {
   "cell_type": "markdown",
   "metadata": {},
   "source": [
    "**if the user asks to print the prediction, a summary of the table is shown.**"
   ]
  },
  {
   "cell_type": "code",
   "execution_count": 12,
   "metadata": {},
   "outputs": [
    {
     "ename": "NameError",
     "evalue": "name 'pred' is not defined",
     "output_type": "error",
     "traceback": [
      "\u001b[0;31m---------------------------------------------------------------------------\u001b[0m",
      "\u001b[0;31mNameError\u001b[0m                                 Traceback (most recent call last)",
      "\u001b[0;32m<ipython-input-12-008509a38355>\u001b[0m in \u001b[0;36m<module>\u001b[0;34m\u001b[0m\n\u001b[0;32m----> 1\u001b[0;31m \u001b[0mprint\u001b[0m\u001b[0;34m(\u001b[0m\u001b[0mpred\u001b[0m\u001b[0;34m)\u001b[0m\u001b[0;34m\u001b[0m\u001b[0;34m\u001b[0m\u001b[0m\n\u001b[0m",
      "\u001b[0;31mNameError\u001b[0m: name 'pred' is not defined"
     ]
    }
   ],
   "source": [
    "print(pred)"
   ]
  },
  {
   "cell_type": "markdown",
   "metadata": {},
   "source": [
    "**to print the complete table, we must use:**"
   ]
  },
  {
   "cell_type": "code",
   "execution_count": 13,
   "metadata": {},
   "outputs": [
    {
     "ename": "NameError",
     "evalue": "name 'pred' is not defined",
     "output_type": "error",
     "traceback": [
      "\u001b[0;31m---------------------------------------------------------------------------\u001b[0m",
      "\u001b[0;31mNameError\u001b[0m                                 Traceback (most recent call last)",
      "\u001b[0;32m<ipython-input-13-dac41f69d65b>\u001b[0m in \u001b[0;36m<module>\u001b[0;34m\u001b[0m\n\u001b[0;32m----> 1\u001b[0;31m \u001b[0mpred\u001b[0m\u001b[0;34m.\u001b[0m\u001b[0mpprint_all\u001b[0m\u001b[0;34m(\u001b[0m\u001b[0;34m)\u001b[0m\u001b[0;34m\u001b[0m\u001b[0;34m\u001b[0m\u001b[0m\n\u001b[0m",
      "\u001b[0;31mNameError\u001b[0m: name 'pred' is not defined"
     ]
    }
   ],
   "source": [
    "pred.pprint_all()"
   ]
  },
  {
   "cell_type": "markdown",
   "metadata": {},
   "source": [
    "*M-G-T stands for Moon-Geocenter-Target, the on-sky angle between the star and the moon*\n",
    "\n",
    "*S-G-T stands for Sun-Geocenter-Target, the on-sky angle between the star and the sun*"
   ]
  },
  {
   "cell_type": "markdown",
   "metadata": {},
   "source": [
    "**The PredictionTable can be exported to PRAIA format file**\n",
    "\n",
    "In this case, some information, such as the Gaia-DR2 Source ID, S-G-T and M-G-T, are lost."
   ]
  },
  {
   "cell_type": "code",
   "execution_count": 14,
   "metadata": {},
   "outputs": [
    {
     "name": "stdout",
     "output_type": "stream",
     "text": [
      "Object `pred.to_praia` not found.\n"
     ]
    }
   ],
   "source": [
    "pred.to_praia?"
   ]
  },
  {
   "cell_type": "code",
   "execution_count": 15,
   "metadata": {},
   "outputs": [
    {
     "ename": "NameError",
     "evalue": "name 'pred' is not defined",
     "output_type": "error",
     "traceback": [
      "\u001b[0;31m---------------------------------------------------------------------------\u001b[0m",
      "\u001b[0;31mNameError\u001b[0m                                 Traceback (most recent call last)",
      "\u001b[0;32m<ipython-input-15-cb3ec6c2fd22>\u001b[0m in \u001b[0;36m<module>\u001b[0;34m\u001b[0m\n\u001b[0;32m----> 1\u001b[0;31m \u001b[0mpred\u001b[0m\u001b[0;34m.\u001b[0m\u001b[0mto_praia\u001b[0m\u001b[0;34m(\u001b[0m\u001b[0;34m'output/Chariklo_occs.table'\u001b[0m\u001b[0;34m)\u001b[0m\u001b[0;34m\u001b[0m\u001b[0;34m\u001b[0m\u001b[0m\n\u001b[0m\u001b[1;32m      2\u001b[0m \u001b[0;31m# Check your folder named output\u001b[0m\u001b[0;34m\u001b[0m\u001b[0;34m\u001b[0m\u001b[0;34m\u001b[0m\u001b[0m\n",
      "\u001b[0;31mNameError\u001b[0m: name 'pred' is not defined"
     ]
    }
   ],
   "source": [
    "pred.to_praia('output/Chariklo_occs.table')\n",
    "# Check your folder named output"
   ]
  },
  {
   "cell_type": "markdown",
   "metadata": {},
   "source": [
    "**The PredictionTable can also generate the files in the Occult Watcher feed format**\n",
    "\n",
    "These are two files, named 'LOG.dat' and 'tableOccult_update.txt'. The occult watcher designation for the object must be informed. For instance, for the satellite Himalia, the designation is \"P5M06\". If mode='append' the prediction will be appended to an existing file. If mode='restart', the files will overwritten."
   ]
  },
  {
   "cell_type": "code",
   "execution_count": 16,
   "metadata": {},
   "outputs": [
    {
     "name": "stdout",
     "output_type": "stream",
     "text": [
      "Object `pred.to_ow` not found.\n"
     ]
    }
   ],
   "source": [
    "pred.to_ow?"
   ]
  },
  {
   "cell_type": "code",
   "execution_count": 17,
   "metadata": {},
   "outputs": [
    {
     "ename": "NameError",
     "evalue": "name 'pred' is not defined",
     "output_type": "error",
     "traceback": [
      "\u001b[0;31m---------------------------------------------------------------------------\u001b[0m",
      "\u001b[0;31mNameError\u001b[0m                                 Traceback (most recent call last)",
      "\u001b[0;32m<ipython-input-17-acc9038ce1cf>\u001b[0m in \u001b[0;36m<module>\u001b[0;34m\u001b[0m\n\u001b[0;32m----> 1\u001b[0;31m \u001b[0mpred\u001b[0m\u001b[0;34m.\u001b[0m\u001b[0mto_ow\u001b[0m\u001b[0;34m(\u001b[0m\u001b[0;34m'1997CU26'\u001b[0m\u001b[0;34m)\u001b[0m\u001b[0;34m\u001b[0m\u001b[0;34m\u001b[0m\u001b[0m\n\u001b[0m",
      "\u001b[0;31mNameError\u001b[0m: name 'pred' is not defined"
     ]
    }
   ],
   "source": [
    "pred.to_ow('1997CU26')"
   ]
  },
  {
   "cell_type": "markdown",
   "metadata": {},
   "source": [
    "**Using the functions from Astropy Table, the data can be exported to many other formats using the funtion 'write'**\n",
    "\n",
    "The formats allowed can be seen in https://docs.astropy.org/en/stable/io/unified.html#built-in-readers-writers. This includes latex and csv."
   ]
  },
  {
   "cell_type": "code",
   "execution_count": 18,
   "metadata": {},
   "outputs": [
    {
     "ename": "NameError",
     "evalue": "name 'pred' is not defined",
     "output_type": "error",
     "traceback": [
      "\u001b[0;31m---------------------------------------------------------------------------\u001b[0m",
      "\u001b[0;31mNameError\u001b[0m                                 Traceback (most recent call last)",
      "\u001b[0;32m<ipython-input-18-e0ca439f9b9f>\u001b[0m in \u001b[0;36m<module>\u001b[0;34m\u001b[0m\n\u001b[0;32m----> 1\u001b[0;31m \u001b[0mpred\u001b[0m\u001b[0;34m.\u001b[0m\u001b[0mwrite\u001b[0m\u001b[0;34m(\u001b[0m\u001b[0;34m'output/prediction.tex'\u001b[0m\u001b[0;34m)\u001b[0m\u001b[0;34m\u001b[0m\u001b[0;34m\u001b[0m\u001b[0m\n\u001b[0m\u001b[1;32m      2\u001b[0m \u001b[0;31m# Check your folder named output\u001b[0m\u001b[0;34m\u001b[0m\u001b[0;34m\u001b[0m\u001b[0;34m\u001b[0m\u001b[0m\n",
      "\u001b[0;31mNameError\u001b[0m: name 'pred' is not defined"
     ]
    }
   ],
   "source": [
    "pred.write('output/prediction.tex')\n",
    "# Check your folder named output"
   ]
  },
  {
   "cell_type": "markdown",
   "metadata": {},
   "source": [
    "<a id=\"section_3\"></a>\n",
    "<h3 id=\"section_3\">3. Using PredictionTable</h3>\n",
    "\n",
    "The PredictionTable was not created to be instantiated directly by the user. It was designed to be an insteresting output object from the prediction function. However, a PredictionTable can be instantiated from a PRAIA occultation table. For this, a PredictionTable method must be called directly as shown below."
   ]
  },
  {
   "cell_type": "code",
   "execution_count": 19,
   "metadata": {},
   "outputs": [],
   "source": [
    "from sora.prediction import PredictionTable"
   ]
  },
  {
   "cell_type": "code",
   "execution_count": 20,
   "metadata": {},
   "outputs": [
    {
     "data": {
      "text/plain": [
       "\u001b[0;31mSignature:\u001b[0m \u001b[0mPredictionTable\u001b[0m\u001b[0;34m.\u001b[0m\u001b[0mfrom_praia\u001b[0m\u001b[0;34m(\u001b[0m\u001b[0mfilename\u001b[0m\u001b[0;34m,\u001b[0m \u001b[0mname\u001b[0m\u001b[0;34m,\u001b[0m \u001b[0;34m**\u001b[0m\u001b[0mkwargs\u001b[0m\u001b[0;34m)\u001b[0m\u001b[0;34m\u001b[0m\u001b[0;34m\u001b[0m\u001b[0m\n",
       "\u001b[0;31mDocstring:\u001b[0m\n",
       "Creates a PredictionTable Table reading from a PRAIA table\n",
       "\n",
       "Parameters:\n",
       "    filename (str): path to the PRAIA table file.\n",
       "    name (str): Name of the Object of the prediction.\n",
       "    radius (int,float): Object radius, in km. (not required)\n",
       "        If not given it's searched in online database.\n",
       "        If not found online, the default is set to zero.\n",
       "\n",
       "Returns:\n",
       "    A PredictionTable\n",
       "\u001b[0;31mFile:\u001b[0m      ~/miniconda3/lib/python3.8/site-packages/sora/prediction.py\n",
       "\u001b[0;31mType:\u001b[0m      method\n"
      ]
     },
     "metadata": {},
     "output_type": "display_data"
    }
   ],
   "source": [
    "PredictionTable.from_praia?"
   ]
  },
  {
   "cell_type": "code",
   "execution_count": 21,
   "metadata": {},
   "outputs": [
    {
     "ename": "OSError",
     "evalue": "File output/Chariklo_occs.table not found",
     "output_type": "error",
     "traceback": [
      "\u001b[0;31m---------------------------------------------------------------------------\u001b[0m",
      "\u001b[0;31mOSError\u001b[0m                                   Traceback (most recent call last)",
      "\u001b[0;32m<ipython-input-21-17ee9319ca23>\u001b[0m in \u001b[0;36m<module>\u001b[0;34m\u001b[0m\n\u001b[0;32m----> 1\u001b[0;31m \u001b[0mpred_1\u001b[0m \u001b[0;34m=\u001b[0m \u001b[0mPredictionTable\u001b[0m\u001b[0;34m.\u001b[0m\u001b[0mfrom_praia\u001b[0m\u001b[0;34m(\u001b[0m\u001b[0mfilename\u001b[0m\u001b[0;34m=\u001b[0m\u001b[0;34m'output/Chariklo_occs.table'\u001b[0m\u001b[0;34m,\u001b[0m \u001b[0mname\u001b[0m\u001b[0;34m=\u001b[0m\u001b[0;34m'Chariklo'\u001b[0m\u001b[0;34m)\u001b[0m\u001b[0;34m\u001b[0m\u001b[0;34m\u001b[0m\u001b[0m\n\u001b[0m",
      "\u001b[0;32m~/miniconda3/lib/python3.8/site-packages/sora/prediction.py\u001b[0m in \u001b[0;36mfrom_praia\u001b[0;34m(cls, filename, name, **kwargs)\u001b[0m\n\u001b[1;32m    210\u001b[0m         \u001b[0;32mfrom\u001b[0m \u001b[0;34m.\u001b[0m\u001b[0mephem\u001b[0m \u001b[0;32mimport\u001b[0m \u001b[0mread_obj_data\u001b[0m\u001b[0;34m\u001b[0m\u001b[0;34m\u001b[0m\u001b[0m\n\u001b[1;32m    211\u001b[0m         \u001b[0;32mif\u001b[0m \u001b[0;32mnot\u001b[0m \u001b[0mos\u001b[0m\u001b[0;34m.\u001b[0m\u001b[0mpath\u001b[0m\u001b[0;34m.\u001b[0m\u001b[0misfile\u001b[0m\u001b[0;34m(\u001b[0m\u001b[0mfilename\u001b[0m\u001b[0;34m)\u001b[0m\u001b[0;34m:\u001b[0m\u001b[0;34m\u001b[0m\u001b[0;34m\u001b[0m\u001b[0m\n\u001b[0;32m--> 212\u001b[0;31m             \u001b[0;32mraise\u001b[0m \u001b[0mIOError\u001b[0m\u001b[0;34m(\u001b[0m\u001b[0;34m'File {} not found'\u001b[0m\u001b[0;34m.\u001b[0m\u001b[0mformat\u001b[0m\u001b[0;34m(\u001b[0m\u001b[0mfilename\u001b[0m\u001b[0;34m)\u001b[0m\u001b[0;34m)\u001b[0m\u001b[0;34m\u001b[0m\u001b[0;34m\u001b[0m\u001b[0m\n\u001b[0m\u001b[1;32m    213\u001b[0m         \u001b[0minput_tests\u001b[0m\u001b[0;34m.\u001b[0m\u001b[0mcheck_kwargs\u001b[0m\u001b[0;34m(\u001b[0m\u001b[0mkwargs\u001b[0m\u001b[0;34m,\u001b[0m \u001b[0mallowed_kwargs\u001b[0m\u001b[0;34m=\u001b[0m\u001b[0;34m[\u001b[0m\u001b[0;34m'radius'\u001b[0m\u001b[0;34m]\u001b[0m\u001b[0;34m)\u001b[0m\u001b[0;34m\u001b[0m\u001b[0;34m\u001b[0m\u001b[0m\n\u001b[1;32m    214\u001b[0m         \u001b[0;32mtry\u001b[0m\u001b[0;34m:\u001b[0m\u001b[0;34m\u001b[0m\u001b[0;34m\u001b[0m\u001b[0m\n",
      "\u001b[0;31mOSError\u001b[0m: File output/Chariklo_occs.table not found"
     ]
    }
   ],
   "source": [
    "pred_1 = PredictionTable.from_praia(filename='output/Chariklo_occs.table', name='Chariklo')"
   ]
  },
  {
   "cell_type": "code",
   "execution_count": 22,
   "metadata": {},
   "outputs": [
    {
     "ename": "NameError",
     "evalue": "name 'pred_1' is not defined",
     "output_type": "error",
     "traceback": [
      "\u001b[0;31m---------------------------------------------------------------------------\u001b[0m",
      "\u001b[0;31mNameError\u001b[0m                                 Traceback (most recent call last)",
      "\u001b[0;32m<ipython-input-22-640cf8bbaecd>\u001b[0m in \u001b[0;36m<module>\u001b[0;34m\u001b[0m\n\u001b[0;32m----> 1\u001b[0;31m \u001b[0mpred_1\u001b[0m\u001b[0;34m.\u001b[0m\u001b[0mpprint_all\u001b[0m\u001b[0;34m(\u001b[0m\u001b[0;34m)\u001b[0m\u001b[0;34m\u001b[0m\u001b[0;34m\u001b[0m\u001b[0m\n\u001b[0m",
      "\u001b[0;31mNameError\u001b[0m: name 'pred_1' is not defined"
     ]
    }
   ],
   "source": [
    "pred_1.pprint_all()"
   ]
  },
  {
   "cell_type": "markdown",
   "metadata": {},
   "source": [
    "To remove some occultations the User can use two functions. The first is the _PredictionTable.remove_occ()_."
   ]
  },
  {
   "cell_type": "code",
   "execution_count": 23,
   "metadata": {},
   "outputs": [
    {
     "name": "stdout",
     "output_type": "stream",
     "text": [
      "Object `pred_1.remove_occ` not found.\n"
     ]
    }
   ],
   "source": [
    "pred_1.remove_occ?"
   ]
  },
  {
   "cell_type": "code",
   "execution_count": 24,
   "metadata": {},
   "outputs": [
    {
     "ename": "NameError",
     "evalue": "name 'pred_1' is not defined",
     "output_type": "error",
     "traceback": [
      "\u001b[0;31m---------------------------------------------------------------------------\u001b[0m",
      "\u001b[0;31mNameError\u001b[0m                                 Traceback (most recent call last)",
      "\u001b[0;32m<ipython-input-24-7942a010d5a0>\u001b[0m in \u001b[0;36m<module>\u001b[0;34m\u001b[0m\n\u001b[0;32m----> 1\u001b[0;31m \u001b[0mpred_1\u001b[0m\u001b[0;34m.\u001b[0m\u001b[0mremove_occ\u001b[0m\u001b[0;34m(\u001b[0m\u001b[0;34m'2017-06-21 09:57'\u001b[0m\u001b[0;34m)\u001b[0m\u001b[0;34m\u001b[0m\u001b[0;34m\u001b[0m\u001b[0m\n\u001b[0m",
      "\u001b[0;31mNameError\u001b[0m: name 'pred_1' is not defined"
     ]
    }
   ],
   "source": [
    "pred_1.remove_occ('2017-06-21 09:57')"
   ]
  },
  {
   "cell_type": "code",
   "execution_count": 25,
   "metadata": {},
   "outputs": [
    {
     "ename": "NameError",
     "evalue": "name 'pred_1' is not defined",
     "output_type": "error",
     "traceback": [
      "\u001b[0;31m---------------------------------------------------------------------------\u001b[0m",
      "\u001b[0;31mNameError\u001b[0m                                 Traceback (most recent call last)",
      "\u001b[0;32m<ipython-input-25-640cf8bbaecd>\u001b[0m in \u001b[0;36m<module>\u001b[0;34m\u001b[0m\n\u001b[0;32m----> 1\u001b[0;31m \u001b[0mpred_1\u001b[0m\u001b[0;34m.\u001b[0m\u001b[0mpprint_all\u001b[0m\u001b[0;34m(\u001b[0m\u001b[0;34m)\u001b[0m\u001b[0;34m\u001b[0m\u001b[0;34m\u001b[0m\u001b[0m\n\u001b[0m",
      "\u001b[0;31mNameError\u001b[0m: name 'pred_1' is not defined"
     ]
    }
   ],
   "source": [
    "pred_1.pprint_all()"
   ]
  },
  {
   "cell_type": "markdown",
   "metadata": {},
   "source": [
    "The second function is the _PredictionTable.keep_from_selected_images()_ this function will check the names in the saved images and eliminate the occultations without the map. This functions allows that after the user deleted the maps of the unwanted occultation this function will eliminate the respective rows in the _PredictionTable_.  "
   ]
  },
  {
   "cell_type": "code",
   "execution_count": 26,
   "metadata": {},
   "outputs": [
    {
     "name": "stdout",
     "output_type": "stream",
     "text": [
      "Object `pred_1.keep_from_selected_images` not found.\n"
     ]
    }
   ],
   "source": [
    "pred_1.keep_from_selected_images?"
   ]
  },
  {
   "cell_type": "markdown",
   "metadata": {},
   "source": [
    "<a id=\"section_4\"></a>\n",
    "<h3 id=\"section_4\">4. Plotting occultation maps</h3>\n",
    "\n",
    "SORA is also able to generate an occultation map. The only required parameters are the occultation parameters. The function also has many inputs to configure the plot.\n",
    "\n",
    "The first time the function is called, cartopy will download some data referring to the features presented in the map, such as the country and state division, lakes, rivers, etc."
   ]
  },
  {
   "cell_type": "code",
   "execution_count": 27,
   "metadata": {},
   "outputs": [],
   "source": [
    "from sora.prediction import plot_occ_map"
   ]
  },
  {
   "cell_type": "code",
   "execution_count": 28,
   "metadata": {},
   "outputs": [
    {
     "data": {
      "text/plain": [
       "\u001b[0;31mSignature:\u001b[0m\n",
       "\u001b[0mplot_occ_map\u001b[0m\u001b[0;34m(\u001b[0m\u001b[0;34m\u001b[0m\n",
       "\u001b[0;34m\u001b[0m    \u001b[0mname\u001b[0m\u001b[0;34m,\u001b[0m\u001b[0;34m\u001b[0m\n",
       "\u001b[0;34m\u001b[0m    \u001b[0mradius\u001b[0m\u001b[0;34m,\u001b[0m\u001b[0;34m\u001b[0m\n",
       "\u001b[0;34m\u001b[0m    \u001b[0mcoord\u001b[0m\u001b[0;34m,\u001b[0m\u001b[0;34m\u001b[0m\n",
       "\u001b[0;34m\u001b[0m    \u001b[0mtime\u001b[0m\u001b[0;34m,\u001b[0m\u001b[0;34m\u001b[0m\n",
       "\u001b[0;34m\u001b[0m    \u001b[0mca\u001b[0m\u001b[0;34m,\u001b[0m\u001b[0;34m\u001b[0m\n",
       "\u001b[0;34m\u001b[0m    \u001b[0mpa\u001b[0m\u001b[0;34m,\u001b[0m\u001b[0;34m\u001b[0m\n",
       "\u001b[0;34m\u001b[0m    \u001b[0mvel\u001b[0m\u001b[0;34m,\u001b[0m\u001b[0;34m\u001b[0m\n",
       "\u001b[0;34m\u001b[0m    \u001b[0mdist\u001b[0m\u001b[0;34m,\u001b[0m\u001b[0;34m\u001b[0m\n",
       "\u001b[0;34m\u001b[0m    \u001b[0mmag\u001b[0m\u001b[0;34m=\u001b[0m\u001b[0;36m0\u001b[0m\u001b[0;34m,\u001b[0m\u001b[0;34m\u001b[0m\n",
       "\u001b[0;34m\u001b[0m    \u001b[0mlongi\u001b[0m\u001b[0;34m=\u001b[0m\u001b[0;36m0\u001b[0m\u001b[0;34m,\u001b[0m\u001b[0;34m\u001b[0m\n",
       "\u001b[0;34m\u001b[0m    \u001b[0;34m**\u001b[0m\u001b[0mkwargs\u001b[0m\u001b[0;34m,\u001b[0m\u001b[0;34m\u001b[0m\n",
       "\u001b[0;34m\u001b[0m\u001b[0;34m)\u001b[0m\u001b[0;34m\u001b[0m\u001b[0;34m\u001b[0m\u001b[0m\n",
       "\u001b[0;31mDocstring:\u001b[0m\n",
       "Plots map of the occultation\n",
       "\n",
       "Parameters:\n",
       "    Required params:\n",
       "    name (str): Name of the object\n",
       "    radius (int, float): radius of the object (km)\n",
       "    coord (str, SkyCoord): Coordinate of the star\n",
       "        (\"hh mm ss.sss dd mm ss.sss\" or \"hh.hhhhhhhh dd.dddddddd\")\n",
       "    time (str, Time): Instant of Closest Approach (iso or isot format)\n",
       "    ca (int, float): Closest Approach Distance (arcsec)\n",
       "    pa (int, float): Position Angle at C/A (deg)\n",
       "    vel (int, vel): Velocity of the event (km/s)\n",
       "    dist (int, float): Object distance at C/A (AU)\n",
       "\n",
       "    Not required params (only printed in label):\n",
       "    mag (int,float): Mag* = Normalized magnitude to vel=20km/s\n",
       "    longi (int,float): East longitude of sub-planet point, deg, positive towards East\n",
       "\n",
       "    Map configuration:\n",
       "    nameimg (str): Change the name of the imaged saved.\n",
       "    path (str): Path to a directory where to save map.\n",
       "    resolution (int): Cartopy feature resolution. \"1\" means a resolution of \"10m\",\n",
       "        \"2\" a resolution of \"50m\" and \"3\" a resolution of \"100m\". Default = 2\n",
       "    states (bool): True to plot the state division of the countries. The states of\n",
       "        some countries will only be shown depending on the resolution.\n",
       "    zoom (int, float): Zooms in or out of the map.\n",
       "    centermap_geo (list): Center the map given coordinates in longitude and latitude.\n",
       "        It must be a list with two numbers. Default=None.\n",
       "    centermap_delta (list): Displace the center of the map given displacement\n",
       "        in X and Y, in km. It must be a list with two numbers. Default=None.\n",
       "    centerproj (list): Rotates the Earth to show occultation with the center\n",
       "        projected at a given longitude and latitude. It must be a list with two numbers\n",
       "    labels (bool): Plots text above and below the map with the occultation parameters.\n",
       "        Default=True.\n",
       "    meridians (int): Plots lines representing the meridians for given interval. Default=30 deg\n",
       "    parallels (int): Plots lines representing the parallels for given interval. Default=30 deg\n",
       "    sites (dict): Plots site positions in map. It must be a python dictionary where the key is\n",
       "        the name of the site, and the value is a list with longitude, latitude, delta_x,\n",
       "        delta_y and color. delta_x and delta_y are displacement, in km, from the point\n",
       "        of the site in the map and the name. color is the color of the point.\n",
       "    site_name (bool): If True, it prints the name of the sites given, else it plots only the points\n",
       "    countries (dict): Plots the names of countries. It must be a python dictionary where the key\n",
       "        is the name of the country and the value is a list with longitude and latitude\n",
       "        of the lower left part of the text.\n",
       "    offset (list): applies an offset to the ephemeris, calculating new CA and instant of CA.\n",
       "        It is a pair of delta_RA*cosDEC and delta_DEC.\n",
       "    mapstyle (int): Define the color style of the map. 1 is the default black and white scale.\n",
       "        2 is a colored map.\n",
       "    error (int,float): Ephemeris error in mas. It plots a dashed line representing radius + error.\n",
       "    ercolor (str): Changes the color of the lines of the error bar.\n",
       "    ring (int,float): plots a dashed line representing the location of a ring.\n",
       "        It is given in km, from the center.\n",
       "    rncolor (str): Changes the color of ring lines.\n",
       "    atm (int,float): plots a dashed line representing the location of an atmosphere.\n",
       "        It is given in km, from the center.\n",
       "    atcolor (str): Changes the color of atm lines.\n",
       "    chord_delta (list): list with distances from center to plot chords\n",
       "    chord_geo (2d-list): list with pairs of coordinates to plot chords\n",
       "    chcolor (str): color of the line of the chords. Default: grey\n",
       "    heights (list): It plots a circular dashed line showing the locations where the observer\n",
       "        would observe the occultation at a given height above the horizons.\n",
       "        This must be a list.\n",
       "    hcolor (str): Changes the color of the height lines.\n",
       "    mapsize (list): The size of figure, in cm. It must be a list with two values.\n",
       "        Default = [46.0, 38.0].\n",
       "    cpoints (int,float): Interval for the small points marking the center of shadow,\n",
       "        in seconds. Default=60.\n",
       "    ptcolor (str): Change the color of the center points.\n",
       "    alpha (float): The transparency of the night shade, where 0.0 is full transparency\n",
       "        and 1.0 is full black. Default = 0.2.\n",
       "    fmt (str): The format to save the image. It is parsed directly by matplotlib.pyplot.\n",
       "        Default = 'png'\n",
       "    dpi (int): \"Dots per inch\". It defines the quality of the image. Default = 100.\n",
       "    lncolor (str): Changes the color of the line that represents the limits of the shadow over Earth.\n",
       "    outcolor (str): Changes the color of the lines that represents the limits of the shadow outside Earth\n",
       "    nscale (int,float): Arbitrary scale for the size of the name of the site.\n",
       "    cscale (int,float): Arbitrary scale for the name of the country.\n",
       "    sscale (int,float): Arbitrary scale for the size of point of the site.\n",
       "    pscale (int,float): Arbitrary scale for the size of the points that represent the center of the shadow\n",
       "    arrow (bool): If true, it plots the arrow with the occultation direction.\n",
       "\n",
       "    Comment: Only one of centermap_geo and centermap_delta can be given\n",
       "\u001b[0;31mFile:\u001b[0m      ~/miniconda3/lib/python3.8/site-packages/sora/prediction.py\n",
       "\u001b[0;31mType:\u001b[0m      function\n"
      ]
     },
     "metadata": {},
     "output_type": "display_data"
    }
   ],
   "source": [
    "plot_occ_map?"
   ]
  },
  {
   "cell_type": "markdown",
   "metadata": {},
   "source": [
    "**To make it easier to plot the predictions, the** _PredictionTable.plot_occ_map()_ **function can be called which automatically fills the required parameters.**\n",
    "\n",
    "To plot the map for all the predictions\n"
   ]
  },
  {
   "cell_type": "code",
   "execution_count": 29,
   "metadata": {},
   "outputs": [
    {
     "ename": "NameError",
     "evalue": "name 'pred' is not defined",
     "output_type": "error",
     "traceback": [
      "\u001b[0;31m---------------------------------------------------------------------------\u001b[0m",
      "\u001b[0;31mNameError\u001b[0m                                 Traceback (most recent call last)",
      "\u001b[0;32m<ipython-input-29-a4d1b99fa449>\u001b[0m in \u001b[0;36m<module>\u001b[0;34m\u001b[0m\n\u001b[0;32m----> 1\u001b[0;31m \u001b[0mpred\u001b[0m\u001b[0;34m.\u001b[0m\u001b[0mplot_occ_map\u001b[0m\u001b[0;34m(\u001b[0m\u001b[0mpath\u001b[0m\u001b[0;34m=\u001b[0m\u001b[0;34m'output/'\u001b[0m\u001b[0;34m)\u001b[0m\u001b[0;34m\u001b[0m\u001b[0;34m\u001b[0m\u001b[0m\n\u001b[0m",
      "\u001b[0;31mNameError\u001b[0m: name 'pred' is not defined"
     ]
    }
   ],
   "source": [
    "pred.plot_occ_map(path='output/')"
   ]
  },
  {
   "cell_type": "markdown",
   "metadata": {},
   "source": [
    "To plot the map for only one prediction, just give a item to the PredictionTable object."
   ]
  },
  {
   "cell_type": "code",
   "execution_count": 30,
   "metadata": {},
   "outputs": [
    {
     "ename": "NameError",
     "evalue": "name 'pred' is not defined",
     "output_type": "error",
     "traceback": [
      "\u001b[0;31m---------------------------------------------------------------------------\u001b[0m",
      "\u001b[0;31mNameError\u001b[0m                                 Traceback (most recent call last)",
      "\u001b[0;32m<ipython-input-30-ebb67c8a78e0>\u001b[0m in \u001b[0;36m<module>\u001b[0;34m\u001b[0m\n\u001b[0;32m----> 1\u001b[0;31m \u001b[0mpred\u001b[0m\u001b[0;34m[\u001b[0m\u001b[0;36m0\u001b[0m\u001b[0;34m]\u001b[0m\u001b[0;34m.\u001b[0m\u001b[0mplot_occ_map\u001b[0m\u001b[0;34m(\u001b[0m\u001b[0mpath\u001b[0m\u001b[0;34m=\u001b[0m\u001b[0;34m'output/'\u001b[0m\u001b[0;34m)\u001b[0m\u001b[0;34m\u001b[0m\u001b[0;34m\u001b[0m\u001b[0m\n\u001b[0m",
      "\u001b[0;31mNameError\u001b[0m: name 'pred' is not defined"
     ]
    }
   ],
   "source": [
    "pred[0].plot_occ_map(path='output/')"
   ]
  },
  {
   "cell_type": "markdown",
   "metadata": {},
   "source": [
    "**The PredictionTable can also be plotted by giving the date of the occultation. All the occultations that matches the date will be plotted.**\n",
    "\n",
    "The date can be as constrained as the user wants, and must match the text that appears in the 'Epoch' column."
   ]
  },
  {
   "cell_type": "code",
   "execution_count": 31,
   "metadata": {},
   "outputs": [
    {
     "ename": "NameError",
     "evalue": "name 'pred' is not defined",
     "output_type": "error",
     "traceback": [
      "\u001b[0;31m---------------------------------------------------------------------------\u001b[0m",
      "\u001b[0;31mNameError\u001b[0m                                 Traceback (most recent call last)",
      "\u001b[0;32m<ipython-input-31-c0f2b661091f>\u001b[0m in \u001b[0;36m<module>\u001b[0;34m\u001b[0m\n\u001b[0;32m----> 1\u001b[0;31m \u001b[0mpred\u001b[0m\u001b[0;34m[\u001b[0m\u001b[0;34m'2017-06-26'\u001b[0m\u001b[0;34m]\u001b[0m\u001b[0;34m.\u001b[0m\u001b[0mplot_occ_map\u001b[0m\u001b[0;34m(\u001b[0m\u001b[0;34m)\u001b[0m\u001b[0;34m\u001b[0m\u001b[0;34m\u001b[0m\u001b[0m\n\u001b[0m",
      "\u001b[0;31mNameError\u001b[0m: name 'pred' is not defined"
     ]
    }
   ],
   "source": [
    "pred['2017-06-26'].plot_occ_map()"
   ]
  },
  {
   "cell_type": "markdown",
   "metadata": {},
   "source": [
    "<a id=\"section_5\"></a>\n",
    "<h3 id=\"section_5\">5. Occultation parameters</h3>\n",
    "\n",
    "Finally, a function is implemented in the prediction module which calculates the occultation parameters. For this function, it must be passed a Star objetct, an Ephemeris object (it can be any of the Ephemeris classes) and a time. The time does not need to be precise, but it must be close within 10 minutes from the Closest Approach."
   ]
  },
  {
   "cell_type": "code",
   "execution_count": 32,
   "metadata": {},
   "outputs": [],
   "source": [
    "from sora.prediction import occ_params"
   ]
  },
  {
   "cell_type": "code",
   "execution_count": 33,
   "metadata": {},
   "outputs": [
    {
     "data": {
      "text/plain": [
       "\u001b[0;31mSignature:\u001b[0m \u001b[0mocc_params\u001b[0m\u001b[0;34m(\u001b[0m\u001b[0mstar\u001b[0m\u001b[0;34m,\u001b[0m \u001b[0mephem\u001b[0m\u001b[0;34m,\u001b[0m \u001b[0mtime\u001b[0m\u001b[0;34m,\u001b[0m \u001b[0mn_recursions\u001b[0m\u001b[0;34m=\u001b[0m\u001b[0;36m5\u001b[0m\u001b[0;34m,\u001b[0m \u001b[0mmax_tdiff\u001b[0m\u001b[0;34m=\u001b[0m\u001b[0;32mNone\u001b[0m\u001b[0;34m)\u001b[0m\u001b[0;34m\u001b[0m\u001b[0;34m\u001b[0m\u001b[0m\n",
       "\u001b[0;31mDocstring:\u001b[0m\n",
       "Calculates the parameters of the occultation, as instant, CA, PA.\n",
       "\n",
       "Parameters:\n",
       "    star (Star): The coordinate of the star in the same reference frame as the ephemeris.\n",
       "        It must be a Star object.\n",
       "    ephem (Ephem): object ephemeris. It must be an Ephemeris object.\n",
       "\n",
       "Returns:\n",
       "    instant of CA (Time): Instant of Closest Approach\n",
       "    CA (arcsec): Distance of Closest Approach\n",
       "    PA (deg): Position Angle at Closest Approach\n",
       "    vel (km/s): Velocity of the occultation\n",
       "    dist (AU): the object geocentric distance.\n",
       "    n_recursions (int): The number of attempts to try obtain prediction parameters\n",
       "        in case the event is outside the previous range of time. Default=5\n",
       "    max_tdiff (int): Maximum difference from given time it will attempt to identify\n",
       "        the occultation, in minutes. If given, 'n_recursions' is ignored. Default=None.\n",
       "\u001b[0;31mFile:\u001b[0m      ~/miniconda3/lib/python3.8/site-packages/sora/prediction.py\n",
       "\u001b[0;31mType:\u001b[0m      function\n"
      ]
     },
     "metadata": {},
     "output_type": "display_data"
    }
   ],
   "source": [
    "occ_params?"
   ]
  },
  {
   "cell_type": "code",
   "execution_count": 34,
   "metadata": {},
   "outputs": [],
   "source": [
    "from sora.star import Star\n",
    "s = Star(code='6760225712991422208', log=False)"
   ]
  },
  {
   "cell_type": "code",
   "execution_count": 35,
   "metadata": {},
   "outputs": [
    {
     "name": "stdout",
     "output_type": "stream",
     "text": [
      "Time of the CA:   2017-06-26 20:46:07.140 UTC\n",
      "Closest Approuch: 0.199 arcsec\n",
      "Position Angle:   0.511 deg\n",
      "Shadow velocity:  -22.333 km / s\n",
      "Object distance:  14.65229 AU\n"
     ]
    }
   ],
   "source": [
    "tca, ca, pa, vel, dist = occ_params(s, eph_chariklo, time='2017-06-26 20:40')\n",
    "print('Time of the CA:   {} UTC'.format(tca))\n",
    "print('Closest Approuch: {:.3f}'.format(ca))\n",
    "print('Position Angle:   {:.3f}'.format(pa))\n",
    "print('Shadow velocity:  {:.3f}'.format(vel))\n",
    "print('Object distance:  {:.5f}'.format(dist))"
   ]
  },
  {
   "cell_type": "markdown",
   "metadata": {},
   "source": [
    "**This Jupyter-Notebook was designed as a tutorial for how to work with the** _prediction()_ **functions and PredictionTable Object Class. More information about the other classes, please refer to their specif Jupyter-Notebook. Any further question, please contact the core team: Altair Ramos Gomes Júnior, Bruno Eduardo Morgado, Gustavo Benedetti Rossi, and Rodrigo Carlos Boufleur.**\n",
    "\n",
    "*The End.*"
   ]
  }
 ],
 "metadata": {
  "kernelspec": {
   "display_name": "Python 3",
   "language": "python",
   "name": "python3"
  },
  "language_info": {
   "codemirror_mode": {
    "name": "ipython",
    "version": 3
   },
   "file_extension": ".py",
   "mimetype": "text/x-python",
   "name": "python",
   "nbconvert_exporter": "python",
   "pygments_lexer": "ipython3",
   "version": "3.8.3"
  }
 },
 "nbformat": 4,
 "nbformat_minor": 4
}
