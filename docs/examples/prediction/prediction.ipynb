{
 "cells": [
  {
   "cell_type": "markdown",
   "metadata": {
    "tags": []
   },
   "source": [
    "# Predicting stellar occultations\n",
    "\n",
    "One of the major features of SORA is the ability to predict stellar occultations. The time and position from which the event will happen are calculated by combining the positions of the stars with the ephemeris of the occulting body. \n",
    "With SORA, we can make predictions using the GAIA-EDR3 catalogue, which have the position of stars with an accuracy better than 1 mas (milliarcsecond), allowing predictions of a stellar occultation by bodies with angular sizes of the same order of these uncertainties.\n",
    "\n",
    "With the geocentric positions of stars and ephemeris and their uncertainties, we can increase the search region and predict stellar occultations for the Earth.\n",
    "\n",
    "In this example, we will predict stellar occultations by Chiron that could have been observed from ground base telescopes in the year 2022."
   ]
  },
  {
   "cell_type": "code",
   "execution_count": 1,
   "metadata": {},
   "outputs": [
    {
     "name": "stdout",
     "output_type": "stream",
     "text": [
      "SORA version: 0.2.1\n"
     ]
    }
   ],
   "source": [
    "from sora import Body\n",
    "from sora.prediction import prediction \n",
    "from sora.ephem.utils import getBSPfromJPL"
   ]
  },
  {
   "cell_type": "code",
   "execution_count": 2,
   "metadata": {},
   "outputs": [
    {
     "name": "stdout",
     "output_type": "stream",
     "text": [
      "\n",
      "Downloading bsp file(s) ...\n",
      "\n",
      "1 (0.071 MB) file(s) was/were downloaded\n",
      "Download time: 0:00:02.855193\n"
     ]
    }
   ],
   "source": [
    "# Downloading the BSP file with Chiron ephemeris\n",
    "\n",
    "getBSPfromJPL(identifier = '2002060', initial_date = '2022-01-01', final_date = '2022-12-31', email = 'chrystianpereira@on.br')"
   ]
  },
  {
   "cell_type": "code",
   "execution_count": 3,
   "metadata": {},
   "outputs": [
    {
     "name": "stdout",
     "output_type": "stream",
     "text": [
      "Obtaining data for Chiron from SBDB\n",
      "###############################################################################\n",
      "                             2060 Chiron (1977 UB)                             \n",
      "###############################################################################\n",
      "Object Orbital Class: Centaur\n",
      "Spectral Type:\n",
      "    SMASS: Cb  [Reference: EAR-A-5-DDR-TAXONOMY-V4.0]\n",
      "    Tholen: B [Reference: EAR-A-5-DDR-TAXONOMY-V4.0]\n",
      "       Linear, generally featureless spectra. Differences in UV absorption features and presence/absence of narrow absorption feature near 0.7 μm.\n",
      "Discovered 1977-Oct-18 by Kowal, C. at Palomar\n",
      "\n",
      "Physical parameters:\n",
      "Diameter:\n",
      "    166 +/- 0 km\n",
      "    Reference: Dunham occultation list: Duham 1998, Yeomans E-mail 2001-Apr-04\n",
      "Rotation:\n",
      "    5.918 +/- 0 h\n",
      "    Reference: LCDB (Rev. 2020-October); Warner et al., 2009, REFERENCE LIST:[Bus, S.J.; Bowell, E.; Harris, A.W.; Hewitt, A.V. (1989) Icarus 77,   223-238.], [Luu, J.X.; Jewitt, D.C. (1990) Astron. J. 100, 913-932.], [Marcialis, R.L.; Buratti, B.J. (1993) Icarus 104, 234-243.], [Lazzaro, D.; Florczak, M.A.; Angeli, C.A.; Carvano, J.M.; et al.   (1997) Planet. Space Sci. 45, 1607-1614.]\n",
      "Absolute Magnitude:\n",
      "    5.82 +/- 0 mag\n",
      "    Reference: MPO647035, \n",
      "Albedo:\n",
      "    0.15 +/- 0.03 \n",
      "    Reference: Earth, Moon, and Planets, v. 89, Issue 1, p. 117-134 (2002), \n",
      "B-V color:\n",
      "    0.704 +/- 0.024 \n",
      "    Reference: EAR-A-5-DDR-UBV-MEAN-VALUES-V1.2, #obs=3; phase (min.=1.81, mean=2.51, max.=2.88) deg.\n",
      "U-B color:\n",
      "    0.283 +/- 0.06 \n",
      "    Reference: EAR-A-5-DDR-UBV-MEAN-VALUES-V1.2, #obs=3; phase (min.=1.81, mean=2.51, max.=2.88) deg.\n",
      "\n",
      "----------- Ephemeris -----------\n",
      "\n",
      "EphemKernel: 2002060/DE440 (SPKID=2002060)\n",
      "Ephem Error: RA*cosDEC: 0.000 arcsec; DEC: 0.000 arcsec\n",
      "Offset applied: RA*cosDEC: 0.0000 arcsec; DEC: 0.0000 arcsec\n",
      "\n",
      "\n"
     ]
    }
   ],
   "source": [
    "# Defining the occulting body\n",
    "\n",
    "chiron = Body(name = 'Chiron', ephem = ['2002060.bsp', 'de440.bsp'])\n",
    "print(chiron)"
   ]
  },
  {
   "cell_type": "markdown",
   "metadata": {},
   "source": [
    "In order to get the prediction for a given date range, we use the \"time_beg\" and \"time_end\" arguments. In this example, we only want search occultations for stars with magnitude up to 17. The \"divs\" parameter is used to divide the ephemeris into equal parts for better search of the stars."
   ]
  },
  {
   "cell_type": "code",
   "execution_count": 4,
   "metadata": {},
   "outputs": [
    {
     "name": "stdout",
     "output_type": "stream",
     "text": [
      "Ephemeris was split in 12 parts for better search of stars\n",
      "\n",
      "Searching occultations in part 1/12\n",
      "Generating Ephemeris between 2022-01-02 00:00:00.000 and 2022-01-14 11:59:00.000 ...\n",
      "Downloading stars ...\n",
      "    6 Gaia-EDR3 stars downloaded\n",
      "Identifying occultations ...\n",
      "\n",
      "Searching occultations in part 2/12\n",
      "Generating Ephemeris between 2022-01-14 12:00:00.000 and 2022-01-26 23:59:00.000 ...\n",
      "Downloading stars ...\n",
      "    20 Gaia-EDR3 stars downloaded\n",
      "Identifying occultations ...\n",
      "\n",
      "Searching occultations in part 3/12\n",
      "Generating Ephemeris between 2022-01-27 00:00:00.000 and 2022-02-08 11:59:00.000 ...\n",
      "Downloading stars ...\n",
      "    42 Gaia-EDR3 stars downloaded\n",
      "Identifying occultations ...\n",
      "\n",
      "Searching occultations in part 4/12\n",
      "Generating Ephemeris between 2022-02-08 12:00:00.000 and 2022-02-20 23:59:00.000 ...\n",
      "Downloading stars ...\n",
      "    71 Gaia-EDR3 stars downloaded\n",
      "Identifying occultations ...\n",
      "\n",
      "Searching occultations in part 5/12\n",
      "Generating Ephemeris between 2022-02-21 00:00:00.000 and 2022-03-05 11:59:00.000 ...\n",
      "Downloading stars ...\n",
      "    84 Gaia-EDR3 stars downloaded\n",
      "Identifying occultations ...\n",
      "\n",
      "Searching occultations in part 6/12\n",
      "Generating Ephemeris between 2022-03-05 12:00:00.000 and 2022-03-17 23:59:00.000 ...\n",
      "Downloading stars ...\n",
      "    90 Gaia-EDR3 stars downloaded\n",
      "Identifying occultations ...\n",
      "\n",
      "Searching occultations in part 7/12\n",
      "Generating Ephemeris between 2022-03-18 00:00:00.000 and 2022-03-30 11:59:00.000 ...\n",
      "Downloading stars ...\n",
      "    104 Gaia-EDR3 stars downloaded\n",
      "Identifying occultations ...\n",
      "\n",
      "Searching occultations in part 8/12\n",
      "Generating Ephemeris between 2022-03-30 12:00:00.000 and 2022-04-11 23:59:00.000 ...\n",
      "Downloading stars ...\n",
      "    89 Gaia-EDR3 stars downloaded\n",
      "Identifying occultations ...\n",
      "\n",
      "Searching occultations in part 9/12\n",
      "Generating Ephemeris between 2022-04-12 00:00:00.000 and 2022-04-24 11:59:00.000 ...\n",
      "Downloading stars ...\n",
      "    85 Gaia-EDR3 stars downloaded\n",
      "Identifying occultations ...\n",
      "\n",
      "Searching occultations in part 10/12\n",
      "Generating Ephemeris between 2022-04-24 12:00:00.000 and 2022-05-06 23:59:00.000 ...\n",
      "Downloading stars ...\n",
      "    100 Gaia-EDR3 stars downloaded\n",
      "Identifying occultations ...\n",
      "\n",
      "Searching occultations in part 11/12\n",
      "Generating Ephemeris between 2022-05-07 00:00:00.000 and 2022-05-19 11:59:00.000 ...\n",
      "Downloading stars ...\n",
      "    84 Gaia-EDR3 stars downloaded\n",
      "Identifying occultations ...\n",
      "\n",
      "Searching occultations in part 12/12\n",
      "Generating Ephemeris between 2022-05-19 12:00:00.000 and 2022-05-31 23:59:00.000 ...\n",
      "Downloading stars ...\n",
      "    56 Gaia-EDR3 stars downloaded\n",
      "Identifying occultations ...\n",
      "\n",
      "3 occultations found.\n"
     ]
    }
   ],
   "source": [
    "# Prediction of stellar occultations by Chiron for the year 2022 as observed by the geocenter.\n",
    "# The full period of search was split in 12 division to avoid overflow of memory caused by the ephemeris\n",
    "# and to avoid download stars for a large region of sky. We also apllied an filter for only considering \n",
    "# star brighter than magnitude 17.\n",
    "\n",
    "pred = prediction(time_beg = '2022-01-02', time_end = '2022-06-01', body = chiron, divs = 12, mag_lim = 17)"
   ]
  },
  {
   "cell_type": "code",
   "execution_count": 5,
   "metadata": {},
   "outputs": [
    {
     "name": "stdout",
     "output_type": "stream",
     "text": [
      "         Epoch             ICRS Star Coord at Epoch      Geocentric Object Position    C/A    P/A    Vel     Dist    G      G*   long  loct M-G-T S-G-T Gaia-EDR3 Source ID\n",
      "                                                                                      arcsec  deg   km / s    AU    mag    mag   deg  hh:mm  deg   deg                     \n",
      "----------------------- ------------------------------ ------------------------------ ------ ------ ------ ------- ------ ------ ---- ----- ----- ----- -------------------\n",
      "2022-01-18 11:10:09.180 00 28 01.63997 +05 19 17.26883 00 28 01.63984 +05 19 17.27544  0.007 342.92  15.43  19.165 15.962 15.681   82 16:36   115    71 2555123636923859584\n",
      "2022-03-02 09:50:47.440 00 34 44.34172 +05 55 27.79583 00 34 44.35027 +05 55 27.46501  0.355 158.90  31.53  19.718 16.784 17.279   61 13:54    34    29 2555460809036424448\n",
      "2022-04-14 12:34:20.980 00 43 57.46561 +06 50 18.96650 00 43 57.46424 +06 50 19.01627  0.054 337.73  34.57  19.834 15.981 16.575  340 11:13   161    12 2556342651721554048\n"
     ]
    }
   ],
   "source": [
    "# printing prediction table\n",
    "\n",
    "pred.pprint_all()"
   ]
  },
  {
   "cell_type": "code",
   "execution_count": null,
   "metadata": {},
   "outputs": [],
   "source": []
  }
 ],
 "metadata": {
  "kernelspec": {
   "display_name": "Python 3",
   "language": "python",
   "name": "python3"
  },
  "language_info": {
   "codemirror_mode": {
    "name": "ipython",
    "version": 3
   },
   "file_extension": ".py",
   "mimetype": "text/x-python",
   "name": "python",
   "nbconvert_exporter": "python",
   "pygments_lexer": "ipython3",
   "version": "3.7.10"
  }
 },
 "nbformat": 4,
 "nbformat_minor": 4
}
