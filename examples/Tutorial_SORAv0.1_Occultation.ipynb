{
 "cells": [
  {
   "cell_type": "markdown",
   "metadata": {},
   "source": [
    "# SORA - Stellar Occultation Reduction and Analysis\n",
    "\n",
    "## Occultation Object Class\n",
    "\n",
    "The Occultation Object Class within SORA was created to reduce and analyze stellar occultations, and control all the other Object Classes at SORA package. Here we have some useful tasks that allow converting the times for each observatory in positions in the sky plane ($\\xi$, $\\eta$), fit an ellipse to the points, obtain the astrometrical position resulting, among others.\n",
    "\n",
    "The documentation at <font color=blue>add link</font> contains the details about every step.  \n",
    "\n",
    "This Jupyter-Notebook was designed as a tutorial for how to work with the Occultation Object Class. More information about the other classes, please refer to their specif Jupyter-Notebook. Any further question, please contact the core team: Altair Ramos Gomes Júnior, Bruno Eduardo Morgado, Gustavo Benedetti Rossi, and Rodrigo Carlos Boufleur.\n",
    "\n",
    "### Index\n",
    "\n",
    "1. [Instantiating the Occultation Object and adding observations](#section_1)\n",
    "\n",
    "2. [Converting from times to $\\xi$ and $\\eta$ in the sky plane](#section_2)\n",
    "\n",
    "3. [Chords display and ellipse fit](#section_3)\n",
    "\n",
    "4. [Viewing and saving the results](#section_4)"
   ]
  },
  {
   "cell_type": "code",
   "execution_count": 1,
   "metadata": {},
   "outputs": [],
   "source": [
    "## SORA package\n",
    "from sora import Occultation, EphemKernel, Star, LightCurve, Observer\n",
    "\n",
    "## Other main packages\n",
    "from astropy.time import Time\n",
    "import astropy.units as u\n",
    "\n",
    "## Usual packages\n",
    "import numpy as np\n",
    "import matplotlib.pylab as pl\n",
    "import os"
   ]
  },
  {
   "cell_type": "markdown",
   "metadata": {},
   "source": [
    "<a id=\"section_1\"></a>\n",
    "### 1. Instantiating the Occultation Object and adding observations\n",
    "\n",
    "The Occultation Object Class can be instantiated in only one way. For this it is needed a Star Object, an Ephemeris Object (EphemKernel, EphemPlanet or EphemJPL), and the occultation time (within 10 minutes for the correct value).\n",
    "\n",
    "**The Object Docstring was designed to help the users. Also, each function has its Docstring containing its main purpose and the needed parameters (physical description and formats). Please, do not hesitate to use it.**"
   ]
  },
  {
   "cell_type": "code",
   "execution_count": 2,
   "metadata": {},
   "outputs": [
    {
     "data": {
      "text/plain": [
       "\u001b[0;31mInit signature:\u001b[0m \u001b[0mOccultation\u001b[0m\u001b[0;34m(\u001b[0m\u001b[0mstar\u001b[0m\u001b[0;34m,\u001b[0m \u001b[0mephem\u001b[0m\u001b[0;34m,\u001b[0m \u001b[0mtime\u001b[0m\u001b[0;34m)\u001b[0m\u001b[0;34m\u001b[0m\u001b[0;34m\u001b[0m\u001b[0m\n",
       "\u001b[0;31mDocstring:\u001b[0m     \n",
       "Does the reduction of the occultation\n",
       "    \n",
       "\u001b[0;31mInit docstring:\u001b[0m\n",
       "Instantiates the Occultation object.\n",
       "\n",
       "Parameters:\n",
       "    star (Star): The coordinate of the star in the same reference frame as the ephemeris.\n",
       "        It must be a Star object.\n",
       "    ephem (Ephem): object ephemeris. It must be an Ephemeris object.\n",
       "    time (str, Time): Reference time of the occultation.\n",
       "        Time does not need to be exact, but needs to be within approximately 10 minutes\n",
       "        of the occultation closest approach to calculate occultation parameters.\n",
       "\u001b[0;31mFile:\u001b[0m           ~/.local/lib/python3.7/site-packages/sora/occultation.py\n",
       "\u001b[0;31mType:\u001b[0m           type\n",
       "\u001b[0;31mSubclasses:\u001b[0m     \n"
      ]
     },
     "metadata": {},
     "output_type": "display_data"
    }
   ],
   "source": [
    "Occultation?"
   ]
  },
  {
   "cell_type": "markdown",
   "metadata": {},
   "source": [
    "**First let's instanciate the Star and the Ephemeris**\n",
    "\n",
    "SORA will automatically search for the star information. A warning will raise when any information is missing. In this example, there is no star radius available in Gaia."
   ]
  },
  {
   "cell_type": "code",
   "execution_count": 3,
   "metadata": {},
   "outputs": [
    {
     "name": "stdout",
     "output_type": "stream",
     "text": [
      "Downloading star parameters from I/345/gaia2\n"
     ]
    },
    {
     "name": "stderr",
     "output_type": "stream",
     "text": [
      "/home/jovyan/.local/lib/python3.7/site-packages/sora/star.py:320: UserWarning: Gaia catalogue does not have the star radius.\n",
      "  warnings.warn('Gaia catalogue does not have the star radius.')\n"
     ]
    },
    {
     "name": "stdout",
     "output_type": "stream",
     "text": [
      "1 Gaia-DR2 star found G=14.2375\n",
      "star coordinate at J2015.5: RA=18h55m15.65196s +/- 0.03 mas, DEC=-31d31m21.6665s +/- 0.0299 mas\n",
      "Downloading star parameters from I/297/out\n"
     ]
    }
   ],
   "source": [
    "ephem_occ = EphemKernel('Chariklo', 2010199, kernels=['input/bsp/Chariklo.bsp','input/bsp/de438_small.bsp'])\n",
    "star_occ  = Star(coord='18 55 15.65250 -31 31 21.67051') # Occ Chariklo 22-06-2017\n",
    "time_occ  = '2017-06-22 21:18'"
   ]
  },
  {
   "cell_type": "markdown",
   "metadata": {},
   "source": [
    "**Now, we can instantiate the Occultation**"
   ]
  },
  {
   "cell_type": "code",
   "execution_count": 4,
   "metadata": {},
   "outputs": [
    {
     "name": "stdout",
     "output_type": "stream",
     "text": [
      "Stellar occultation of star Gaia-DR2 6760223758801661440 by Chariklo.\n",
      "\n",
      "Geocentric Closest Approach: 0.049 arcsec\n",
      "Instant of CA: 2017-06-22 21:18:48.250\n",
      "Position Angle: 359.72 deg\n",
      "Geocentric shadow velocity: -22.00 km / s\n",
      "Sun-Geocenter-Target angle:  166.42 deg\n",
      "Moon-Geocenter-Target angle: 149.11 deg\n",
      "\n",
      "\n",
      "No observations reported\n",
      "\n",
      "###############################################################################\n",
      "                                     STAR                                      \n",
      "###############################################################################\n",
      "Gaia-DR2 star Source ID: 6760223758801661440\n",
      "ICRS star coordinate at J2015.5:\n",
      "RA=18h55m15.65196s +/- 0.0300 mas, DEC=-31d31m21.6665s +/- 0.0299 mas\n",
      "pmRA=3.512 +/- 0.078 mas/yr, pmDEC=0.061 +/- 3.512 mas/yr, Plx=0.1879 +/- 0.0388 mas\n",
      "\n",
      "Magnitudes: G: 14.238, B: 14.320, V: 13.530, R: 14.180, J: 12.395, H: 11.781,\n",
      "            K: 11.627\n",
      "\n",
      "Apparent diameter from Kervella et. al (2004):\n",
      "    V: 0.0216 mas, B: 0.0216 mas\n",
      "Apparent diameter from van Belle (1999):\n",
      "    sg: B: 0.0238 mas, V: 0.0244 mas\n",
      "    ms: B: 0.0261 mas, V: 0.0198 mas\n",
      "    vs: B: 0.0350 mas, V: 0.0315 mas\n",
      "\n",
      "Geocentric star coordinate at occultation Epoch (2017-06-22 21:18:48.250):\n",
      "RA=18h55m15.65250s +/- 0.1840 mas, DEC=-31d31m21.6705s +/- 0.1503 mas\n",
      "\n",
      "###############################################################################\n",
      "                                   EPHEMERIS                                   \n",
      "###############################################################################\n",
      "Ephemeris of Chariklo.\n",
      "Radius: 121.0 km\n",
      "Mass: 0.00e+00 kg\n",
      "\n",
      "Ephem Kernel: CHARIKLO/DE438_SMALL (SPKID=2010199)\n",
      "Ephem Error: RA*cosDEC: 0.006 arcsec; DEC: 0.005 arcsec\n",
      "\n",
      "\n"
     ]
    }
   ],
   "source": [
    "occ = Occultation(star_occ, ephem_occ, time_occ)\n",
    "\n",
    "print(occ)"
   ]
  },
  {
   "cell_type": "markdown",
   "metadata": {},
   "source": [
    "**Note that at the print(Occultation) there are no observations added to this Occultation yet.**\n",
    "\n",
    "It is needed one Observer and one LightCurve to define an observation."
   ]
  },
  {
   "cell_type": "markdown",
   "metadata": {},
   "source": [
    "**Let's instanciate the Observers**\n",
    "\n",
    "Here we will give 5 locations"
   ]
  },
  {
   "cell_type": "code",
   "execution_count": 5,
   "metadata": {},
   "outputs": [],
   "source": [
    "out = Observer(name='Outeniqua'  ,lon='+16 49 17.710', lat='-21 17 58.170', height =1416)\n",
    "ond = Observer(name='Onduruquea' ,lon='+15 59 33.750', lat='-21 36 26.040', height =1220)\n",
    "tiv = Observer(name='Tivoli'     ,lon='+18 01 01.240', lat='-23 27 40.190', height =1344)\n",
    "whc = Observer(name='Windhoek'   ,lon='+17 06 31.900', lat='-22 41 55.160', height =1902)\n",
    "hak = Observer(name='Hakos'      ,lon='+16 21 41.320', lat='-23 14 11.040', height =1843)"
   ]
  },
  {
   "cell_type": "markdown",
   "metadata": {},
   "source": [
    "**Let's instanciate the LightCurves**\n",
    "\n",
    "Here we give 6 light curves. Note that 2 are for the same site observed with different telescopes."
   ]
  },
  {
   "cell_type": "code",
   "execution_count": 6,
   "metadata": {},
   "outputs": [],
   "source": [
    "out_lc = LightCurve(name='Outeniqua lc',\n",
    "                    initial_time='2017-06-22 21:20:00.056',\n",
    "                    end_time ='2017-06-22 21:29:59.963',\n",
    "                    immersion='2017-06-22 21:21:20.329',immersion_err=0.032,\n",
    "                    emersion ='2017-06-22 21:21:30.343',emersion_err=0.034)\n",
    "\n",
    "ond_lc = LightCurve(name='Onduruquea lc',\n",
    "                    initial_time='2017-06-22 21:11:52.175',\n",
    "                    end_time ='2017-06-22 21:25:13.389',\n",
    "                    immersion='2017-06-22 21:21:22.213',immersion_err=0.010,\n",
    "                    emersion ='2017-06-22 21:21:33.824',emersion_err=0.011)\n",
    "\n",
    "tiv_lc = LightCurve(name='Tivoli lc',\n",
    "                    initial_time='2017-06-22 21:16:00.094',\n",
    "                    end_time ='2017-06-22 21:28:00.018',\n",
    "                    immersion='2017-06-22 21:21:15.628',immersion_err=0.011,\n",
    "                    emersion ='2017-06-22 21:21:19.988',emersion_err=0.038)\n",
    "\n",
    "whc_c14_lc = LightCurve(name='Windhoek C14 lc',\n",
    "                    initial_time='2017-06-22 21:12:48.250',\n",
    "                    end_time ='2017-06-22 21:32:47.963',\n",
    "                    immersion='2017-06-22 21:21:17.609',immersion_err=0.024,\n",
    "                    emersion ='2017-06-22 21:21:27.564',emersion_err=0.026)\n",
    "\n",
    "whc_d16_lc = LightCurve(name='Windhoek D16 lc',\n",
    "                    initial_time='2017-06-22 21:20:01.884',\n",
    "                    end_time ='2017-06-22 21:22:21.894',\n",
    "                    immersion='2017-06-22 21:21:17.288',immersion_err=0.028,\n",
    "                    emersion ='2017-06-22 21:21:27.228',emersion_err=0.034)\n",
    "\n",
    "hak_lc = LightCurve(name='Hakos lc',\n",
    "                    initial_time='2017-06-22 21:10:19.461',\n",
    "                    end_time ='2017-06-22 21:30:19.345')"
   ]
  },
  {
   "cell_type": "markdown",
   "metadata": {},
   "source": [
    "**To add the observation to the Occultation just use the _Occultation.add_observer()_**\n",
    "\n",
    "During this step the LightCurve is automatic updated using the Occultation parameters: the Shadow's velocity, the star diameter and the distance to the occulting body. This means that is no need for the user to do the _LightCurve.set_dist()_, _LightCurve.set_vel()_ and _LightCurve.set_star_diam()_."
   ]
  },
  {
   "cell_type": "code",
   "execution_count": 7,
   "metadata": {},
   "outputs": [],
   "source": [
    "occ.add_observation(out,out_lc)\n",
    "occ.add_observation(ond,ond_lc)\n",
    "occ.add_observation(tiv,tiv_lc)"
   ]
  },
  {
   "cell_type": "markdown",
   "metadata": {},
   "source": [
    "Note that a warning comes up if the flux drop is not calculated automatically."
   ]
  },
  {
   "cell_type": "markdown",
   "metadata": {},
   "source": [
    "**The same goes for two observation at with the same Observer**"
   ]
  },
  {
   "cell_type": "code",
   "execution_count": 8,
   "metadata": {},
   "outputs": [],
   "source": [
    "occ.add_observation(whc,whc_c14_lc)\n",
    "occ.add_observation(whc,whc_d16_lc)"
   ]
  },
  {
   "cell_type": "markdown",
   "metadata": {},
   "source": [
    "**Also, the same goes for negative observations**"
   ]
  },
  {
   "cell_type": "code",
   "execution_count": 9,
   "metadata": {},
   "outputs": [],
   "source": [
    "occ.add_observation(hak,hak_lc)"
   ]
  },
  {
   "cell_type": "markdown",
   "metadata": {},
   "source": [
    "**To check which observers were added to the Occultation just use** _Occultation.observations()_"
   ]
  },
  {
   "cell_type": "code",
   "execution_count": 10,
   "metadata": {},
   "outputs": [
    {
     "name": "stdout",
     "output_type": "stream",
     "text": [
      "Observer= Outeniqua, LC: Outeniqua lc\n",
      "Observer= Onduruquea, LC: Onduruquea lc\n",
      "Observer= Tivoli, LC: Tivoli lc\n",
      "Observer= Windhoek, LC: Windhoek C14 lc\n",
      "Observer= Windhoek, LC: Windhoek D16 lc\n",
      "Observer= Hakos, LC: Hakos lc\n"
     ]
    }
   ],
   "source": [
    "occ.observations()"
   ]
  },
  {
   "cell_type": "markdown",
   "metadata": {},
   "source": [
    "**If any of them was wrongly added just remove it using** _Occultation.remove_observation()_"
   ]
  },
  {
   "cell_type": "code",
   "execution_count": 11,
   "metadata": {},
   "outputs": [],
   "source": [
    "occ.remove_observation('Outeniqua')\n",
    "occ.remove_observation('Hakos lc')"
   ]
  },
  {
   "cell_type": "code",
   "execution_count": 12,
   "metadata": {},
   "outputs": [
    {
     "name": "stdout",
     "output_type": "stream",
     "text": [
      "Observer= Onduruquea, LC: Onduruquea lc\n",
      "Observer= Tivoli, LC: Tivoli lc\n",
      "Observer= Windhoek, LC: Windhoek C14 lc\n",
      "Observer= Windhoek, LC: Windhoek D16 lc\n"
     ]
    }
   ],
   "source": [
    "occ.observations()"
   ]
  },
  {
   "cell_type": "code",
   "execution_count": 13,
   "metadata": {},
   "outputs": [],
   "source": [
    "occ.add_observation(out,out_lc)\n",
    "occ.add_observation(hak,hak_lc)"
   ]
  },
  {
   "cell_type": "markdown",
   "metadata": {},
   "source": [
    "<a id=\"section_2\"></a>\n",
    "### 2. Converting from times to $\\xi$ and $\\eta$ in the sky plane\n",
    "\n",
    "This step is done automatically without the user has to ask for it. The user can see its results using the python dictionary Occultation.positions that contains all positions for all observations added."
   ]
  },
  {
   "cell_type": "code",
   "execution_count": 14,
   "metadata": {},
   "outputs": [
    {
     "data": {
      "text/plain": [
       "{'Onduruquea': {'lon': <Longitude 15.99270833 deg>,\n",
       "  'lat': <Latitude -21.60723333 deg>,\n",
       "  'height': <Quantity 1220. m>,\n",
       "  'Onduruquea lc': {'status': 'positive',\n",
       "   'immersion': {'on': True,\n",
       "    'time': <Time object: scale='utc' format='iso' value=2017-06-22 21:21:22.213>,\n",
       "    'value': (-139.356, 8.272),\n",
       "    'vel': (22.352, 0.246),\n",
       "    'time_err': 0.01,\n",
       "    'error': ((-139.58, 8.27), (-139.133, 8.275))},\n",
       "   'emersion': {'on': True,\n",
       "    'time': <Time object: scale='utc' format='iso' value=2017-06-22 21:21:33.824>,\n",
       "    'value': (120.173, 11.131),\n",
       "    'vel': (22.352, 0.246),\n",
       "    'time_err': 0.011,\n",
       "    'error': ((119.927, 11.129), (120.419, 11.134))}}},\n",
       " 'Tivoli': {'lon': <Longitude 18.01701111 deg>,\n",
       "  'lat': <Latitude -23.46116389 deg>,\n",
       "  'height': <Quantity 1344. m>,\n",
       "  'Tivoli lc': {'status': 'positive',\n",
       "   'immersion': {'on': True,\n",
       "    'time': <Time object: scale='utc' format='iso' value=2017-06-22 21:21:15.628>,\n",
       "    'value': (-71.664, -125.693),\n",
       "    'vel': (22.356, 0.238),\n",
       "    'time_err': 0.011,\n",
       "    'error': ((-71.91, -125.696), (-71.418, -125.69))},\n",
       "   'emersion': {'on': True,\n",
       "    'time': <Time object: scale='utc' format='iso' value=2017-06-22 21:21:19.988>,\n",
       "    'value': (25.808, -124.655),\n",
       "    'vel': (22.356, 0.238),\n",
       "    'time_err': 0.038,\n",
       "    'error': ((24.958, -124.664), (26.657, -124.646))}}},\n",
       " 'Windhoek': {'lon': <Longitude 17.10886111 deg>,\n",
       "  'lat': <Latitude -22.69865556 deg>,\n",
       "  'height': <Quantity 1902. m>,\n",
       "  'Windhoek C14 lc': {'status': 'positive',\n",
       "   'immersion': {'on': True,\n",
       "    'time': <Time object: scale='utc' format='iso' value=2017-06-22 21:21:17.609>,\n",
       "    'value': (-122.82, -72.438),\n",
       "    'vel': (22.354, 0.242),\n",
       "    'time_err': 0.024,\n",
       "    'error': ((-123.356, -72.443), (-122.283, -72.432))},\n",
       "   'emersion': {'on': True,\n",
       "    'time': <Time object: scale='utc' format='iso' value=2017-06-22 21:21:27.564>,\n",
       "    'value': (99.716, -70.031),\n",
       "    'vel': (22.354, 0.242),\n",
       "    'time_err': 0.026,\n",
       "    'error': ((99.135, -70.037), (100.297, -70.025))}},\n",
       "  'Windhoek D16 lc': {'status': 'positive',\n",
       "   'immersion': {'on': True,\n",
       "    'time': <Time object: scale='utc' format='iso' value=2017-06-22 21:21:17.288>,\n",
       "    'value': (-129.995, -72.515),\n",
       "    'vel': (22.354, 0.242),\n",
       "    'time_err': 0.028,\n",
       "    'error': ((-130.621, -72.522), (-129.369, -72.508))},\n",
       "   'emersion': {'on': True,\n",
       "    'time': <Time object: scale='utc' format='iso' value=2017-06-22 21:21:27.228>,\n",
       "    'value': (92.205, -70.112),\n",
       "    'vel': (22.354, 0.242),\n",
       "    'time_err': 0.034,\n",
       "    'error': ((91.445, -70.12), (92.965, -70.104))}}},\n",
       " 'Outeniqua': {'lon': <Longitude 16.82158611 deg>,\n",
       "  'lat': <Latitude -21.29949167 deg>,\n",
       "  'height': <Quantity 1416. m>,\n",
       "  'Outeniqua lc': {'status': 'positive',\n",
       "   'immersion': {'on': True,\n",
       "    'time': <Time object: scale='utc' format='iso' value=2017-06-22 21:21:20.329>,\n",
       "    'value': (-119.381, 66.47),\n",
       "    'vel': (22.356, 0.244),\n",
       "    'time_err': 0.032,\n",
       "    'error': ((-120.097, 66.463), (-118.666, 66.478))},\n",
       "   'emersion': {'on': True,\n",
       "    'time': <Time object: scale='utc' format='iso' value=2017-06-22 21:21:30.343>,\n",
       "    'value': (104.496, 68.913),\n",
       "    'vel': (22.356, 0.244),\n",
       "    'time_err': 0.034,\n",
       "    'error': ((103.735, 68.905), (105.256, 68.921))}}},\n",
       " 'Hakos': {'lon': <Longitude 16.36147778 deg>,\n",
       "  'lat': <Latitude -23.2364 deg>,\n",
       "  'height': <Quantity 1843. m>,\n",
       "  'Hakos lc': {'status': 'negative',\n",
       "   'start_obs': {'on': True,\n",
       "    'time': <Time object: scale='utc' format='iso' value=2017-06-22 21:10:19.461>,\n",
       "    'value': (-14876.441, -315.748),\n",
       "    'vel': (22.336, 0.253)},\n",
       "   'end_obs': {'on': True,\n",
       "    'time': <Time object: scale='utc' format='iso' value=2017-06-22 21:30:19.345>,\n",
       "    'value': (11938.764, -22.446),\n",
       "    'vel': (22.36, 0.236)}}}}"
      ]
     },
     "execution_count": 14,
     "metadata": {},
     "output_type": "execute_result"
    }
   ],
   "source": [
    "occ.positions"
   ]
  },
  {
   "cell_type": "markdown",
   "metadata": {},
   "source": [
    "**Any specif value can be obtained using the keys [Observer][LightCurve]**"
   ]
  },
  {
   "cell_type": "code",
   "execution_count": 15,
   "metadata": {
    "scrolled": true
   },
   "outputs": [
    {
     "data": {
      "text/plain": [
       "(-119.381, 66.47)"
      ]
     },
     "execution_count": 15,
     "metadata": {},
     "output_type": "execute_result"
    }
   ],
   "source": [
    "occ.positions['Outeniqua']['Outeniqua lc']['immersion']['value']"
   ]
  },
  {
   "cell_type": "markdown",
   "metadata": {},
   "source": [
    "**The user can save these position**"
   ]
  },
  {
   "cell_type": "code",
   "execution_count": 16,
   "metadata": {},
   "outputs": [],
   "source": [
    "occ.to_file()"
   ]
  },
  {
   "cell_type": "markdown",
   "metadata": {},
   "source": [
    "**Even thought it is not needed, the user can use it freely, just import the positionv function within the sora.occultation.**"
   ]
  },
  {
   "cell_type": "code",
   "execution_count": 17,
   "metadata": {},
   "outputs": [
    {
     "data": {
      "text/plain": [
       "\u001b[0;31mSignature:\u001b[0m \u001b[0mpositionv\u001b[0m\u001b[0;34m(\u001b[0m\u001b[0mstar\u001b[0m\u001b[0;34m,\u001b[0m \u001b[0mephem\u001b[0m\u001b[0;34m,\u001b[0m \u001b[0mobserver\u001b[0m\u001b[0;34m,\u001b[0m \u001b[0mtime\u001b[0m\u001b[0;34m)\u001b[0m\u001b[0;34m\u001b[0m\u001b[0;34m\u001b[0m\u001b[0m\n",
       "\u001b[0;31mDocstring:\u001b[0m\n",
       "Calculates the position and velocity of the occultation shadow relative to the observer.\n",
       "\n",
       "Parameters:\n",
       "    star (Star): The coordinate of the star in the same reference frame as the ephemeris.\n",
       "       It must be a Star object.\n",
       "    ephem (Ephem): The object ephemeris. It must be an Ephemeris object.\n",
       "    observer (Observer): The Observer information. It must be an Observer object.\n",
       "    time (Time): Reference instant to calculate position and velocity.\n",
       "\n",
       "Return:\n",
       "    f, g (float): The orthographic projection of the shadow relative to the observer.\n",
       "        f is in the x-axis (East-West direction; East positive)\n",
       "        g is in the y-axis (North-South direction; North positive)\n",
       "\u001b[0;31mFile:\u001b[0m      ~/.local/lib/python3.7/site-packages/sora/occultation.py\n",
       "\u001b[0;31mType:\u001b[0m      function\n"
      ]
     },
     "metadata": {},
     "output_type": "display_data"
    }
   ],
   "source": [
    "from sora.occultation import positionv\n",
    "\n",
    "positionv?"
   ]
  },
  {
   "cell_type": "code",
   "execution_count": 18,
   "metadata": {},
   "outputs": [
    {
     "name": "stdout",
     "output_type": "stream",
     "text": [
      "f:  -77.262 km\n",
      "g:  +66.930 km\n",
      "vf: +22.356 km/s\n",
      "vg: +00.244 km/s\n"
     ]
    }
   ],
   "source": [
    "f, g, vel_f, vel_g = positionv(star_occ,ephem_occ,out,'2017-06-22 21:21:22.213')\n",
    "\n",
    "print('f:  {:+07.3f} km'.format(f))\n",
    "print('g:  {:+07.3f} km'.format(g))\n",
    "print('vf: {:+07.3f} km/s'.format(vel_f))\n",
    "print('vg: {:+07.3f} km/s'.format(vel_g))"
   ]
  },
  {
   "cell_type": "markdown",
   "metadata": {},
   "source": [
    "<a id=\"section_3\"></a>\n",
    "### 3. Chords display and ellipse fit\n",
    "\n",
    "The next step is the visualization of the chords in the sky plane and the fitting of an ellipse. The five parameters that describe the ellipse are:\n",
    "\n",
    "**1.** and **2.** The centre position ($f_0$, $g_0$)\n",
    "\n",
    "**3.** The apparent equatorial radius, semi-major axix ($a'$)\n",
    "\n",
    "**4.** The oblatness ($\\epsilon' = \\frac{a' - b'}{a'}$) \n",
    "\n",
    "**5.** The position angle of the pole, semi-minor axix ($P$)\n",
    "\n",
    "The result of the fit is a ChiSquare Object, and its functions can be found at its specific Jupyter-Notebook."
   ]
  },
  {
   "cell_type": "markdown",
   "metadata": {},
   "source": [
    "**Let's look at the chords** "
   ]
  },
  {
   "cell_type": "code",
   "execution_count": 19,
   "metadata": {},
   "outputs": [
    {
     "data": {
      "image/png": "[encoded data removed]",
      "text/plain": [
       "<Figure size 432x288 with 1 Axes>"
      ]
     },
     "metadata": {
      "needs_background": "light"
     },
     "output_type": "display_data"
    }
   ],
   "source": [
    "occ.plot_chords()\n",
    "\n",
    "##################################################\n",
    "pl.xlim(+170,-170)\n",
    "pl.ylim(-170,+170)\n",
    "pl.show()"
   ]
  },
  {
   "cell_type": "markdown",
   "metadata": {},
   "source": [
    "**If there are know time shifts, this can be easily solved using** _LightCurve.dt_"
   ]
  },
  {
   "cell_type": "code",
   "execution_count": 20,
   "metadata": {},
   "outputs": [],
   "source": [
    "out_lc.dt = -0.150\n",
    "ond_lc.dt = -0.190\n",
    "tiv_lc.dt = -0.150\n",
    "whc_c14_lc.dt = -0.375\n",
    "whc_d16_lc.dt = +0.000"
   ]
  },
  {
   "cell_type": "code",
   "execution_count": 21,
   "metadata": {},
   "outputs": [
    {
     "data": {
      "image/png": "[encoded data removed]",
      "text/plain": [
       "<Figure size 432x288 with 1 Axes>"
      ]
     },
     "metadata": {
      "needs_background": "light"
     },
     "output_type": "display_data"
    }
   ],
   "source": [
    "occ.plot_chords()\n",
    "\n",
    "##################################################\n",
    "pl.xlim(+170,-170)\n",
    "pl.ylim(-170,+170)\n",
    "pl.show()"
   ]
  },
  {
   "cell_type": "markdown",
   "metadata": {},
   "source": [
    "**Now, let's fit the ellipse**\n",
    "\n",
    "Here, there is only the manual method, the user should provide the parameters to the fit and also the region for searching each parameters.  "
   ]
  },
  {
   "cell_type": "code",
   "execution_count": 22,
   "metadata": {},
   "outputs": [
    {
     "data": {
      "text/plain": [
       "\u001b[0;31mSignature:\u001b[0m \u001b[0mocc\u001b[0m\u001b[0;34m.\u001b[0m\u001b[0mfit_ellipse\u001b[0m\u001b[0;34m(\u001b[0m\u001b[0;34m**\u001b[0m\u001b[0mkwargs\u001b[0m\u001b[0;34m)\u001b[0m\u001b[0;34m\u001b[0m\u001b[0;34m\u001b[0m\u001b[0m\n",
       "\u001b[0;31mDocstring:\u001b[0m\n",
       "Fits an ellipse to the chords of this occultation\n",
       "\n",
       "Parameters:\n",
       "Required parameters:\n",
       "    Each occultation is added as the first arguments directly.\n",
       "    center_f (int,float): The coordinate in f of the ellipse center.\n",
       "    center_g (int,float): The coordinate in g of the ellipse center.\n",
       "    equatorial_radius (int,float): The Equatorial radius (semi-major axis) of the ellipse.\n",
       "    oblateness (int,float): The oblateness of the ellipse.\n",
       "    position_angle (int,float): The pole position angle of the ellipse in degrees. Default=0\n",
       "        Zero is in the North direction ('g-positive'). Positive clockwise.\n",
       "\n",
       "Parameters interval of fitting. Default values are set to zero.\n",
       "    Search between (value - dvalue) and (value + dvalue):\n",
       "    dcenter_f (int,float): Interval for coordinate f of the ellipse center\n",
       "    dcenter_g (int,float): Interval for coordinate g of the ellipse center\n",
       "    dequatorial_radius (int,float): Interval for the Equatorial radius (semi-major axis) of the ellipse\n",
       "    doblateness (int,float): Interval for the oblateness of the ellipse\n",
       "    dposition_angle (int,float): Interval for the pole position angle of the ellipse in degrees\n",
       "\n",
       "    loop (int): The number of ellipses to attempt fitting. Default: 10,000,000\n",
       "    dchi_min (int,float): If given, it will only save ellipsis which chi square are\n",
       "        smaller than chi_min + dchi_min.\n",
       "    number_chi (int): if dchi_min is given, the procedure is repeated until\n",
       "        number_chi is reached. Default: 10,000\n",
       "    log (bool): If True, it prints information while fitting. Default: False.\n",
       "\n",
       "Returns:\n",
       "    chisquare: A ChiSquare object with all parameters.\n",
       "\u001b[0;31mFile:\u001b[0m      ~/.local/lib/python3.7/site-packages/sora/occultation.py\n",
       "\u001b[0;31mType:\u001b[0m      method\n"
      ]
     },
     "metadata": {},
     "output_type": "display_data"
    }
   ],
   "source": [
    "occ.fit_ellipse?"
   ]
  },
  {
   "cell_type": "code",
   "execution_count": 23,
   "metadata": {},
   "outputs": [],
   "source": [
    "ellipse_chi2  = occ.fit_ellipse(center_f=-15.046, center_g=-2.495, dcenter_f=3, dcenter_g=10, \n",
    "                                equatorial_radius=138, dequatorial_radius=3, oblateness=0.093, \n",
    "                                doblateness=0.02, position_angle=126, dposition_angle=10 ,loop=100000,\n",
    "                                dchi_min=10,number_chi=10000)"
   ]
  },
  {
   "cell_type": "markdown",
   "metadata": {},
   "source": [
    "Note that here we only used 100000 loops, but it is recommended at least 10 millions for a good sample for each parameter."
   ]
  },
  {
   "cell_type": "code",
   "execution_count": 24,
   "metadata": {},
   "outputs": [
    {
     "name": "stdout",
     "output_type": "stream",
     "text": [
      "Minimum chi-square: 11.291\n",
      "Number of fitted points: 10\n",
      "Number of fitted parameters: 5\n",
      "Minimum chi-square per degree of freedom: 2.258\n",
      "\n",
      "center_f:\n",
      "    1-sigma: -14.679 +/- 0.120\n",
      "    3-sigma: -14.703 +/- 0.428\n",
      "\n",
      "center_g:\n",
      "    1-sigma: -1.064 +/- 0.384\n",
      "    3-sigma: -1.111 +/- 1.770\n",
      "\n",
      "equatorial_radius:\n",
      "    1-sigma: 138.596 +/- 0.367\n",
      "    3-sigma: 138.612 +/- 1.524\n",
      "\n",
      "oblateness:\n",
      "    1-sigma: 0.086 +/- 0.003\n",
      "    3-sigma: 0.086 +/- 0.011\n",
      "\n",
      "position_angle:\n",
      "    1-sigma: 124.176 +/- 1.148\n",
      "    3-sigma: 124.585 +/- 5.465\n",
      "\n"
     ]
    }
   ],
   "source": [
    "print(ellipse_chi2)"
   ]
  },
  {
   "cell_type": "code",
   "execution_count": 25,
   "metadata": {},
   "outputs": [
    {
     "data": {
      "image/png": "[encoded data removed]",
      "text/plain": [
       "<Figure size 432x288 with 1 Axes>"
      ]
     },
     "metadata": {
      "needs_background": "light"
     },
     "output_type": "display_data"
    },
    {
     "data": {
      "image/png": "[encoded data removed]",
      "text/plain": [
       "<Figure size 432x288 with 1 Axes>"
      ]
     },
     "metadata": {
      "needs_background": "light"
     },
     "output_type": "display_data"
    },
    {
     "data": {
      "image/png": "[encoded data removed]",
      "text/plain": [
       "<Figure size 432x288 with 1 Axes>"
      ]
     },
     "metadata": {
      "needs_background": "light"
     },
     "output_type": "display_data"
    },
    {
     "data": {
      "image/png": "[encoded data removed]",
      "text/plain": [
       "<Figure size 432x288 with 1 Axes>"
      ]
     },
     "metadata": {
      "needs_background": "light"
     },
     "output_type": "display_data"
    },
    {
     "data": {
      "image/png": "[encoded data removed]",
      "text/plain": [
       "<Figure size 432x288 with 1 Axes>"
      ]
     },
     "metadata": {
      "needs_background": "light"
     },
     "output_type": "display_data"
    }
   ],
   "source": [
    "ellipse_chi2.plot_chi2()"
   ]
  },
  {
   "cell_type": "markdown",
   "metadata": {},
   "source": [
    "**Now, besides the chords we can plot the fitted ellipse**"
   ]
  },
  {
   "cell_type": "code",
   "execution_count": 26,
   "metadata": {},
   "outputs": [
    {
     "data": {
      "image/png": "[encoded data removed]",
      "text/plain": [
       "<Figure size 432x288 with 1 Axes>"
      ]
     },
     "metadata": {
      "needs_background": "light"
     },
     "output_type": "display_data"
    }
   ],
   "source": [
    "from sora.extra import draw_ellipse\n",
    "\n",
    "draw_ellipse(**ellipse_chi2.get_values())\n",
    "occ.plot_chords()\n",
    "\n",
    "##################################################\n",
    "pl.xlim(+170,-170)\n",
    "pl.ylim(-170,+170)\n",
    "pl.show()"
   ]
  },
  {
   "cell_type": "markdown",
   "metadata": {},
   "source": [
    "**Not just the fitted ellipse, but the user can also plot all the ellipses inside an sigma region, for instance within $3\\sigma$**\n",
    "\n",
    "This step will, possible, plot large number of ellipses, this can spend some CPU time."
   ]
  },
  {
   "cell_type": "code",
   "execution_count": 27,
   "metadata": {},
   "outputs": [
    {
     "data": {
      "image/png": "[encoded data removed]",
      "text/plain": [
       "<Figure size 432x288 with 1 Axes>"
      ]
     },
     "metadata": {
      "needs_background": "light"
     },
     "output_type": "display_data"
    }
   ],
   "source": [
    "draw_ellipse(**ellipse_chi2.get_values())\n",
    "draw_ellipse(**ellipse_chi2.get_values(sigma=3))\n",
    "\n",
    "occ.plot_chords()\n",
    "\n",
    "##################################################\n",
    "pl.xlim(+170,-170)\n",
    "pl.ylim(-170,+170)\n",
    "pl.show()"
   ]
  },
  {
   "cell_type": "markdown",
   "metadata": {},
   "source": [
    "**The radial velocity issue**\n",
    "\n",
    "During the LightCurve fitting, the user has to add the velocity for that light curve. In the initial process, only the geocentric velocity was determined, and only after the fit, a radial velocity can be correctly calculated.\n",
    "\n",
    "Usually, the light curves' features are dominated by the exposure time. However, in the cases that the fresnel diffraction plays a significant role in it, we suggest that the LightCurve fitting procedure should be redone with the correct velocities."
   ]
  },
  {
   "cell_type": "code",
   "execution_count": 28,
   "metadata": {},
   "outputs": [
    {
     "name": "stdout",
     "output_type": "stream",
     "text": [
      "Onduruquea lc - Velocity used: 22.004\n",
      "    Immersion Radial Velocity: 22.277\n",
      "    Emersion Radial Velocity: 22.279\n",
      "Tivoli lc - Velocity used: 22.004\n",
      "    Immersion Radial Velocity: 9.954\n",
      "    Emersion Radial Velocity: 6.203\n",
      "Windhoek C14 lc - Velocity used: 22.004\n",
      "    Immersion Radial Velocity: 19.182\n",
      "    Emersion Radial Velocity: 18.598\n",
      "Windhoek D16 lc - Velocity used: 22.004\n",
      "    Immersion Radial Velocity: 19.129\n",
      "    Emersion Radial Velocity: 18.645\n",
      "Outeniqua lc - Velocity used: 22.004\n",
      "    Immersion Radial Velocity: 18.832\n",
      "    Emersion Radial Velocity: 19.264\n"
     ]
    }
   ],
   "source": [
    "occ.check_velocities()"
   ]
  },
  {
   "cell_type": "markdown",
   "metadata": {},
   "source": [
    "<a id=\"section_4\"></a>\n",
    "### 4. Viewing and saving the results\n",
    "\n",
    "In the end, we can see the results using Python dictionaries. The _Occultation.fitted_params_ will have fitted parameters and their $1\\sigma$ uncertainties. The _Occultation.chi2_params_ will have some information about the fit and its quality.\n",
    "\n"
   ]
  },
  {
   "cell_type": "code",
   "execution_count": 29,
   "metadata": {},
   "outputs": [
    {
     "data": {
      "text/plain": [
       "{'equatorial_radius': [138.59630159198122, 0.36741772769632064],\n",
       " 'center_f': [-14.679246972514143, 0.12032814268312908],\n",
       " 'center_g': [-1.063775020098476, 0.38391884809934274],\n",
       " 'oblateness': [0.08632923359863626, 0.0025994260410621695],\n",
       " 'position_angle': [124.17550859109596, 1.148293598941578]}"
      ]
     },
     "execution_count": 29,
     "metadata": {},
     "output_type": "execute_result"
    }
   ],
   "source": [
    "occ.fitted_params"
   ]
  },
  {
   "cell_type": "code",
   "execution_count": 30,
   "metadata": {},
   "outputs": [
    {
     "data": {
      "text/plain": [
       "{'radial_dispersion': [-0.17973377550306538, 0.8146866265878823],\n",
       " 'mean_error': [0.5543830489712965, 0.22445931705609917],\n",
       " 'chi2_min': 11.290671082352755,\n",
       " 'nparam': 5,\n",
       " 'npts': 10}"
      ]
     },
     "execution_count": 30,
     "metadata": {},
     "output_type": "execute_result"
    }
   ],
   "source": [
    "occ.chi2_params"
   ]
  },
  {
   "cell_type": "markdown",
   "metadata": {},
   "source": [
    "**The astrometrical positions obtained can be seen using** _Occultation.new_astrometric_position()_"
   ]
  },
  {
   "cell_type": "code",
   "execution_count": 31,
   "metadata": {},
   "outputs": [
    {
     "name": "stdout",
     "output_type": "stream",
     "text": [
      "Ephemeris offset (km): X = -14.7 km +/- 0.1 km; Y = -1.1 km +/- 0.4 km\n",
      "Ephemeris offset (mas): da_cos_dec = -1.381 +/- 0.011; d_dec = -0.100 +/- 0.036\n",
      "\n",
      "Astrometric object position at time 2017-06-22 21:18:48.250\n",
      "RA = 18 55 15.65238 +/- 0.184 mas; DEC = -31 31 21.6220 +/- 0.155 mas\n"
     ]
    }
   ],
   "source": [
    "occ.new_astrometric_position()"
   ]
  },
  {
   "cell_type": "markdown",
   "metadata": {},
   "source": [
    "**If the user wants the position at a specific time**"
   ]
  },
  {
   "cell_type": "code",
   "execution_count": 32,
   "metadata": {},
   "outputs": [
    {
     "name": "stdout",
     "output_type": "stream",
     "text": [
      "Ephemeris offset (km): X = -14.7 km +/- 0.1 km; Y = -1.1 km +/- 0.4 km\n",
      "Ephemeris offset (mas): da_cos_dec = -1.381 +/- 0.011; d_dec = -0.100 +/- 0.036\n",
      "\n",
      "Astrometric object position at time 2017-06-22 21:21:00.000\n",
      "RA = 18 55 15.63105 +/- 0.184 mas; DEC = -31 31 21.6234 +/- 0.155 mas\n"
     ]
    }
   ],
   "source": [
    "occ.new_astrometric_position('2017-06-22 21:21:00.000')"
   ]
  },
  {
   "cell_type": "markdown",
   "metadata": {},
   "source": [
    "**Also a 'post-fit' occultation map can be created using** _Occultation.plot_occ_map()_\n",
    "\n",
    "The fucntion that plots the map contains a large number of _kwargs_. They can be used to complete control the map and its tutorial can be found at SORA documentation <font color=blue>add link</font>     "
   ]
  },
  {
   "cell_type": "code",
   "execution_count": 33,
   "metadata": {},
   "outputs": [
    {
     "name": "stdout",
     "output_type": "stream",
     "text": [
      "Projected shadow radius = 134.9 km\n",
      "output/map_posfit.png generated\n"
     ]
    }
   ],
   "source": [
    "occ.plot_occ_map(centermap_delta=[-3500,+400],zoom=20,nameimg='output/map_posfit')"
   ]
  },
  {
   "cell_type": "markdown",
   "metadata": {},
   "source": [
    "<img src='output/map_posfit.png' style='width:600px;height:500px'/>"
   ]
  },
  {
   "cell_type": "markdown",
   "metadata": {},
   "source": [
    "**All this information can also be seen using** _print(Occultation)_"
   ]
  },
  {
   "cell_type": "code",
   "execution_count": 34,
   "metadata": {},
   "outputs": [
    {
     "name": "stdout",
     "output_type": "stream",
     "text": [
      "Stellar occultation of star Gaia-DR2 6760223758801661440 by Chariklo.\n",
      "\n",
      "Geocentric Closest Approach: 0.049 arcsec\n",
      "Instant of CA: 2017-06-22 21:18:48.250\n",
      "Position Angle: 359.72 deg\n",
      "Geocentric shadow velocity: -22.00 km / s\n",
      "Sun-Geocenter-Target angle:  166.42 deg\n",
      "Moon-Geocenter-Target angle: 149.11 deg\n",
      "\n",
      "\n",
      "5 positive observations\n",
      "1 negative observations\n",
      "\n",
      "###############################################################################\n",
      "                                     STAR                                      \n",
      "###############################################################################\n",
      "Gaia-DR2 star Source ID: 6760223758801661440\n",
      "ICRS star coordinate at J2015.5:\n",
      "RA=18h55m15.65196s +/- 0.0300 mas, DEC=-31d31m21.6665s +/- 0.0299 mas\n",
      "pmRA=3.512 +/- 0.078 mas/yr, pmDEC=0.061 +/- 3.512 mas/yr, Plx=0.1879 +/- 0.0388 mas\n",
      "\n",
      "Magnitudes: G: 14.238, B: 14.320, V: 13.530, R: 14.180, J: 12.395, H: 11.781,\n",
      "            K: 11.627\n",
      "\n",
      "Apparent diameter from Kervella et. al (2004):\n",
      "    V: 0.0216 mas, B: 0.0216 mas\n",
      "Apparent diameter from van Belle (1999):\n",
      "    sg: B: 0.0238 mas, V: 0.0244 mas\n",
      "    ms: B: 0.0261 mas, V: 0.0198 mas\n",
      "    vs: B: 0.0350 mas, V: 0.0315 mas\n",
      "\n",
      "Geocentric star coordinate at occultation Epoch (2017-06-22 21:18:48.250):\n",
      "RA=18h55m15.65250s +/- 0.1840 mas, DEC=-31d31m21.6705s +/- 0.1503 mas\n",
      "\n",
      "###############################################################################\n",
      "                                   EPHEMERIS                                   \n",
      "###############################################################################\n",
      "Ephemeris of Chariklo.\n",
      "Radius: 121.0 km\n",
      "Mass: 0.00e+00 kg\n",
      "\n",
      "Ephem Kernel: CHARIKLO/DE438_SMALL (SPKID=2010199)\n",
      "Ephem Error: RA*cosDEC: 0.006 arcsec; DEC: 0.005 arcsec\n",
      "\n",
      "###############################################################################\n",
      "                             POSITIVE OBSERVATIONS                             \n",
      "###############################################################################\n",
      "\n",
      "Site: Onduruquea\n",
      "Geodetic coordinates: Lon: 15d59m33.75s, Lat: -21d36m26.04s, height: 1.220 km\n",
      "Target altitude: 55.2 deg\n",
      "Target azimuth:  115.5 deg\n",
      "\n",
      "Light curve name: Onduruquea lc\n",
      "Initial time: 2017-06-22 21:11:52.175 UTC\n",
      "End time:     2017-06-22 21:25:13.389 UTC\n",
      "Duration:     13.354 minutes\n",
      "Time offset:  -0.190 seconds\n",
      "\n",
      "Object LightCurve was not instantiated with time and flux.\n",
      "\n",
      "Bandwidth:            0.700 +/- 0.300 microns\n",
      "Used shadow velocity: 22.004 km/s\n",
      "Fresnel scale:        0.040 seconds or 0.87 km\n",
      "Stellar size effect:  0.010 seconds or 0.23 km\n",
      "\n",
      "Object LightCurve model was not fitted.\n",
      "\n",
      "Immersion time: 2017-06-22 21:21:22.023 UTC +/- 0.010 seconds\n",
      "Emersion time:  2017-06-22 21:21:33.634 UTC +/- 0.011 seconds\n",
      "\n",
      "-------------------------------------------------------------------------------\n",
      "Site: Tivoli\n",
      "Geodetic coordinates: Lon: 18d01m01.24s, Lat: -23d27m40.19s, height: 1.344 km\n",
      "Target altitude: 57.6 deg\n",
      "Target azimuth:  113.3 deg\n",
      "\n",
      "Light curve name: Tivoli lc\n",
      "Initial time: 2017-06-22 21:16:00.094 UTC\n",
      "End time:     2017-06-22 21:28:00.018 UTC\n",
      "Duration:     11.999 minutes\n",
      "Time offset:  -0.150 seconds\n",
      "\n",
      "Object LightCurve was not instantiated with time and flux.\n",
      "\n",
      "Bandwidth:            0.700 +/- 0.300 microns\n",
      "Used shadow velocity: 22.004 km/s\n",
      "Fresnel scale:        0.040 seconds or 0.87 km\n",
      "Stellar size effect:  0.010 seconds or 0.23 km\n",
      "\n",
      "Object LightCurve model was not fitted.\n",
      "\n",
      "Immersion time: 2017-06-22 21:21:15.478 UTC +/- 0.011 seconds\n",
      "Emersion time:  2017-06-22 21:21:19.838 UTC +/- 0.038 seconds\n",
      "\n",
      "-------------------------------------------------------------------------------\n",
      "Site: Windhoek\n",
      "Geodetic coordinates: Lon: 17d06m31.9s, Lat: -22d41m55.16s, height: 1.902 km\n",
      "Target altitude: 56.6 deg\n",
      "Target azimuth:  114.2 deg\n",
      "\n",
      "Light curve name: Windhoek C14 lc\n",
      "Initial time: 2017-06-22 21:12:48.250 UTC\n",
      "End time:     2017-06-22 21:32:47.963 UTC\n",
      "Duration:     19.995 minutes\n",
      "Time offset:  -0.375 seconds\n",
      "\n",
      "Object LightCurve was not instantiated with time and flux.\n",
      "\n",
      "Bandwidth:            0.700 +/- 0.300 microns\n",
      "Used shadow velocity: 22.004 km/s\n",
      "Fresnel scale:        0.040 seconds or 0.87 km\n",
      "Stellar size effect:  0.010 seconds or 0.23 km\n",
      "\n",
      "Object LightCurve model was not fitted.\n",
      "\n",
      "Immersion time: 2017-06-22 21:21:17.234 UTC +/- 0.024 seconds\n",
      "Emersion time:  2017-06-22 21:21:27.189 UTC +/- 0.026 seconds\n",
      "\n",
      "-------------------------------------------------------------------------------\n",
      "Site: Windhoek\n",
      "Geodetic coordinates: Lon: 17d06m31.9s, Lat: -22d41m55.16s, height: 1.902 km\n",
      "Target altitude: 56.6 deg\n",
      "Target azimuth:  114.2 deg\n",
      "\n",
      "Light curve name: Windhoek D16 lc\n",
      "Initial time: 2017-06-22 21:20:01.884 UTC\n",
      "End time:     2017-06-22 21:22:21.894 UTC\n",
      "Duration:     2.333 minutes\n",
      "Time offset:  0.000 seconds\n",
      "\n",
      "Object LightCurve was not instantiated with time and flux.\n",
      "\n",
      "Bandwidth:            0.700 +/- 0.300 microns\n",
      "Used shadow velocity: 22.004 km/s\n",
      "Fresnel scale:        0.040 seconds or 0.87 km\n",
      "Stellar size effect:  0.010 seconds or 0.23 km\n",
      "\n",
      "Object LightCurve model was not fitted.\n",
      "\n",
      "Immersion time: 2017-06-22 21:21:17.288 UTC +/- 0.028 seconds\n",
      "Emersion time:  2017-06-22 21:21:27.228 UTC +/- 0.034 seconds\n",
      "\n",
      "-------------------------------------------------------------------------------\n",
      "Site: Outeniqua\n",
      "Geodetic coordinates: Lon: 16d49m17.71s, Lat: -21d17m58.17s, height: 1.416 km\n",
      "Target altitude: 55.7 deg\n",
      "Target azimuth:  116.0 deg\n",
      "\n",
      "Light curve name: Outeniqua lc\n",
      "Initial time: 2017-06-22 21:20:00.056 UTC\n",
      "End time:     2017-06-22 21:29:59.963 UTC\n",
      "Duration:     9.998 minutes\n",
      "Time offset:  -0.150 seconds\n",
      "\n",
      "Object LightCurve was not instantiated with time and flux.\n",
      "\n",
      "Bandwidth:            0.700 +/- 0.300 microns\n",
      "Used shadow velocity: 22.004 km/s\n",
      "Fresnel scale:        0.040 seconds or 0.87 km\n",
      "Stellar size effect:  0.010 seconds or 0.23 km\n",
      "\n",
      "Object LightCurve model was not fitted.\n",
      "\n",
      "Immersion time: 2017-06-22 21:21:20.179 UTC +/- 0.032 seconds\n",
      "Emersion time:  2017-06-22 21:21:30.193 UTC +/- 0.034 seconds\n",
      "\n",
      "###############################################################################\n",
      "                             NEGATIVE OBSERVATIONS                             \n",
      "###############################################################################\n",
      "\n",
      "Site: Hakos\n",
      "Geodetic coordinates: Lon: 16d21m41.32s, Lat: -23d14m11.04s, height: 1.843 km\n",
      "Target altitude: 55.9 deg\n",
      "Target azimuth:  113.3 deg\n",
      "\n",
      "Light curve name: Hakos lc\n",
      "Initial time: 2017-06-22 21:10:19.461 UTC\n",
      "End time:     2017-06-22 21:30:19.345 UTC\n",
      "Duration:     19.998 minutes\n",
      "Time offset:  0.000 seconds\n",
      "\n",
      "Object LightCurve was not instantiated with time and flux.\n",
      "\n",
      "Bandwidth:            0.700 +/- 0.300 microns\n",
      "Used shadow velocity: 22.004 km/s\n",
      "Fresnel scale:        0.040 seconds or 0.87 km\n",
      "Stellar size effect:  0.010 seconds or 0.23 km\n",
      "\n",
      "Object LightCurve model was not fitted.\n",
      "\n",
      "Immersion and emersion times were not fitted or instantiated.\n",
      "\n",
      "###############################################################################\n",
      "                                    RESULTS                                    \n",
      "###############################################################################\n",
      "\n",
      "Fitted Ellipse:\n",
      "equatorial_radius: 138.596 +/- 0.367\n",
      "center_f: -14.679 +/- 0.120\n",
      "center_g: -1.064 +/- 0.384\n",
      "oblateness: 0.086 +/- 0.003\n",
      "position_angle: 124.176 +/- 1.148\n",
      "polar_radius: 126.631 km \n",
      "equivalent_radius: 132.479 km \n",
      "geometric albedo (V): 0.054 (5.4%) \n",
      "\n",
      "Minimum chi-square: 11.291\n",
      "Number of fitted points: 10\n",
      "Number of fitted parameters: 5\n",
      "Minimum chi-square per degree of freedom: 2.258\n",
      "Radial dispersion: -0.180 +/- 0.815 km\n",
      "Mean error: 0.554 +/- 0.224 km\n",
      "\n",
      "Ephemeris offset (km): X = -14.7 km +/- 0.1 km; Y = -1.1 km +/- 0.4 km\n",
      "Ephemeris offset (mas): da_cos_dec = -1.381 +/- 0.011; d_dec = -0.100 +/- 0.036\n",
      "\n",
      "Astrometric object position at time 2017-06-22 21:18:48.250\n",
      "RA = 18 55 15.65238 +/- 0.184 mas; DEC = -31 31 21.6220 +/- 0.155 mas\n"
     ]
    }
   ],
   "source": [
    "print(occ)"
   ]
  },
  {
   "cell_type": "markdown",
   "metadata": {},
   "source": [
    "**And this can be saved to an ASCII file using** _Occultation.to_log_"
   ]
  },
  {
   "cell_type": "code",
   "execution_count": 35,
   "metadata": {},
   "outputs": [
    {
     "name": "stdout",
     "output_type": "stream",
     "text": [
      "output/Test_occ.log\n"
     ]
    }
   ],
   "source": [
    "occ.to_log('output/Test_occ.log')\n",
    "\n",
    "!ls output/*.log"
   ]
  },
  {
   "cell_type": "markdown",
   "metadata": {},
   "source": [
    "**This Jupyter-Notebook was designed as a tutorial for how to work with the Occultation Object Class. More information about the other classes, please refer to their specif Jupyter-Notebook. Any further question, please contact the core team: Altair Ramos Gomes Júnior, Bruno Eduardo Morgado, Gustavo Benedetti Rossi, and Rodrigo Carlos Boufleur.**\n",
    "\n",
    "# The End"
   ]
  }
 ],
 "metadata": {
  "kernelspec": {
   "display_name": "Python 3",
   "language": "python",
   "name": "python3"
  },
  "language_info": {
   "codemirror_mode": {
    "name": "ipython",
    "version": 3
   },
   "file_extension": ".py",
   "mimetype": "text/x-python",
   "name": "python",
   "nbconvert_exporter": "python",
   "pygments_lexer": "ipython3",
   "version": "3.7.6"
  }
 },
 "nbformat": 4,
 "nbformat_minor": 4
}
